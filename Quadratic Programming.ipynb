{
 "cells": [
  {
   "cell_type": "code",
   "execution_count": 5,
   "metadata": {},
   "outputs": [
    {
     "ename": "SyntaxError",
     "evalue": "invalid syntax (<ipython-input-5-f24589d7291c>, line 12)",
     "output_type": "error",
     "traceback": [
      "\u001b[1;36m  File \u001b[1;32m\"<ipython-input-5-f24589d7291c>\"\u001b[1;36m, line \u001b[1;32m12\u001b[0m\n\u001b[1;33m    print \"QP solution:\", solve_qp(P, q, G, h, A, b)\u001b[0m\n\u001b[1;37m                       ^\u001b[0m\n\u001b[1;31mSyntaxError\u001b[0m\u001b[1;31m:\u001b[0m invalid syntax\n"
     ]
    }
   ],
   "source": [
    "from numpy import array, dot\n",
    "from quadprog import solve_qp\n",
    "\n",
    "M = array([[1., 2., 0.], [-8., 3., 2.], [0., 1., 1.]])\n",
    "P = dot(M.T, M)  # quick way to build a symmetric matrix\n",
    "q = dot(array([3., 2., 3.]), M).reshape((3,))\n",
    "G = array([[1., 2., 1.], [2., 0., 1.], [-1., 2., -1.]])\n",
    "h = array([3., 2., -2.]).reshape((3,))\n",
    "A = array([1., 1., 1.])\n",
    "b = array([1.])\n",
    "\n",
    "print \"QP solution:\", solve_qp(P, q, G, h, A, b)"
   ]
  },
  {
   "cell_type": "code",
   "execution_count": null,
   "metadata": {},
   "outputs": [],
   "source": []
  },
  {
   "cell_type": "code",
   "execution_count": null,
   "metadata": {},
   "outputs": [],
   "source": []
  },
  {
   "cell_type": "code",
   "execution_count": null,
   "metadata": {},
   "outputs": [],
   "source": []
  },
  {
   "cell_type": "code",
   "execution_count": null,
   "metadata": {},
   "outputs": [],
   "source": []
  }
 ],
 "metadata": {
  "kernelspec": {
   "display_name": "Python 3",
   "language": "python",
   "name": "python3"
  },
  "language_info": {
   "codemirror_mode": {
    "name": "ipython",
    "version": 3
   },
   "file_extension": ".py",
   "mimetype": "text/x-python",
   "name": "python",
   "nbconvert_exporter": "python",
   "pygments_lexer": "ipython3",
   "version": "3.7.1"
  }
 },
 "nbformat": 4,
 "nbformat_minor": 2
}
