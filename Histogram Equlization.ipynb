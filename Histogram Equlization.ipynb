{
 "cells": [
  {
   "cell_type": "code",
   "execution_count": 1,
   "metadata": {},
   "outputs": [],
   "source": [
    "import cv2\n",
    "import numpy as np\n",
    "import matplotlib.pyplot as plt\n",
    "from collections import Counter\n",
    "\n",
    "def showImage(data):\n",
    "    if(type(data) is list):\n",
    "        for i in range(len(data)):\n",
    "            cv2.imshow('Gambar'+str(i+1),data[i])\n",
    "    elif((type(data).__module__) == \"numpy\"):\n",
    "        cv2.imshow('Gambar',data)\n",
    "    else:\n",
    "        print('File Error')\n",
    "    \n",
    "    cv2.waitKey(0)\n",
    "    cv2.destroyAllWindows() \n",
    "\n",
    "def getfeature(img):\n",
    "    hsv = cv2.cvtColor(img, cv2.COLOR_RGB2HSV)\n",
    "    maxg = (100, 255,   255)\n",
    "    ming = ( 34, 100,  10)\n",
    "    mask = cv2.inRange(hsv,ming,maxg)\n",
    "    result = cv2.bitwise_and(img, img, mask=mask)\n",
    "    r,g,b = cv2.split(result)\n",
    "    d_latih = np.array([[(r.mean(),g.mean(),b.mean(),r.std(),g.std(),b.std())]])\n",
    "    return d_latih"
   ]
  },
  {
   "cell_type": "code",
   "execution_count": 26,
   "metadata": {},
   "outputs": [],
   "source": [
    "path = \"D:\\imageproc\\Level 4\\lv4-3.jpg\"\n",
    "img = cv2.imread(path,0)\n",
    "# img = cv2.cvtColor(img, cv2.COLOR_BGR2RGB)"
   ]
  },
  {
   "cell_type": "code",
   "execution_count": 27,
   "metadata": {},
   "outputs": [],
   "source": [
    "showImage([img,cv2.equalizeHist(img)])"
   ]
  },
  {
   "cell_type": "code",
   "execution_count": 15,
   "metadata": {},
   "outputs": [],
   "source": [
    "r,g,b = cv2.split(img)"
   ]
  },
  {
   "cell_type": "code",
   "execution_count": 16,
   "metadata": {},
   "outputs": [],
   "source": [
    "r,g,b = cv2.equalizeHist(r),cv2.equalizeHist(g),cv2.equalizeHist(b)"
   ]
  },
  {
   "cell_type": "code",
   "execution_count": null,
   "metadata": {},
   "outputs": [],
   "source": []
  }
 ],
 "metadata": {
  "kernelspec": {
   "display_name": "Python 3",
   "language": "python",
   "name": "python3"
  },
  "language_info": {
   "codemirror_mode": {
    "name": "ipython",
    "version": 3
   },
   "file_extension": ".py",
   "mimetype": "text/x-python",
   "name": "python",
   "nbconvert_exporter": "python",
   "pygments_lexer": "ipython3",
   "version": "3.7.1"
  }
 },
 "nbformat": 4,
 "nbformat_minor": 2
}
