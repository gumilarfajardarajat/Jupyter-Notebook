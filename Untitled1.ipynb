{
 "cells": [
  {
   "cell_type": "code",
   "execution_count": 2,
   "metadata": {},
   "outputs": [],
   "source": [
    "import cv2\n",
    "import numpy as np\n",
    "from matplotlib import pyplot as plt\n",
    "from scipy import stats\n",
    "import random"
   ]
  },
  {
   "cell_type": "code",
   "execution_count": 5,
   "metadata": {},
   "outputs": [],
   "source": [
    "imgpath = \"D:/imageproc/beach.jpg\"\n",
    "img = cv2.imread(imgpath,0)\n"
   ]
  },
  {
   "cell_type": "code",
   "execution_count": 14,
   "metadata": {},
   "outputs": [],
   "source": [
    "def drawImage():\n",
    "    a = np.zeros(2)\n",
    "    result = np.insert(a,2,255)\n",
    "    baris = np.insert(a,2,255)\n",
    "    result = np.array([result])\n",
    "    for i in range(0,1250):\n",
    "        baris = np.insert(result,1,baris,axis = 0)\n",
    "        \n",
    "    result = np.array([baris])\n",
    "    \n",
    "    for i in range(0,1250):\n",
    "        result = np.insert(result,1,baris, axis = 0)\n",
    "        \n",
    "    print(img.shape)\n",
    "    cv2.imshow('image',img)\n",
    "    cv2.waitKey(0)\n",
    "    cv2.destroyAllWindows()        "
   ]
  },
  {
   "cell_type": "code",
   "execution_count": 15,
   "metadata": {},
   "outputs": [
    {
     "name": "stdout",
     "output_type": "stream",
     "text": [
      "(480, 640)\n"
     ]
    }
   ],
   "source": [
    "\n",
    "drawImage()"
   ]
  },
  {
   "cell_type": "code",
   "execution_count": 282,
   "metadata": {},
   "outputs": [],
   "source": []
  },
  {
   "cell_type": "code",
   "execution_count": 113,
   "metadata": {},
   "outputs": [
    {
     "data": {
      "text/plain": [
       "array([[[  0,   0, 250],\n",
       "        [ 27,   0,  11],\n",
       "        [  0,   2, 255],\n",
       "        [  0,   1,  54]],\n",
       "\n",
       "       [[  0,   0, 150],\n",
       "        [  0,  66,  32],\n",
       "        [  1, 123,   2],\n",
       "        [  0,   0,  99]],\n",
       "\n",
       "       [[  0,  20,  25],\n",
       "        [  0,   0,  53],\n",
       "        [  0,  44, 255],\n",
       "        [ 45,   0,  89]],\n",
       "\n",
       "       [[ 23, 125,   0],\n",
       "        [ 15,   0,  53],\n",
       "        [ 23,  66,   0],\n",
       "        [  0,  55,  23]],\n",
       "\n",
       "       [[ 12,  67,  50],\n",
       "        [ 77,   0,  99],\n",
       "        [ 21,   0, 255],\n",
       "        [231,   0, 123]]])"
      ]
     },
     "execution_count": 113,
     "metadata": {},
     "output_type": "execute_result"
    }
   ],
   "source": [
    "img"
   ]
  },
  {
   "cell_type": "code",
   "execution_count": 235,
   "metadata": {},
   "outputs": [],
   "source": [
    "img = np.array([[[0,0,250],[27,0,11],[0,2,255],[0,1,54]],\n",
    "              [[0,0,150],[0,66,32],[1,123,2],[0,0,99]],\n",
    "             [[0,20,25],[0,0,53],[0,44,255],[45,0,89]],\n",
    "             [[23,125,0],[15,0,53],[23,66,0],[0,55,23]],\n",
    "             [[12,67,50],[77,0,99],[21,0,255],[231,0,123]]])\n",
    "\n"
   ]
  },
  {
   "cell_type": "code",
   "execution_count": 266,
   "metadata": {},
   "outputs": [
    {
     "data": {
      "text/plain": [
       "array([[1., 1., 1., 1.],\n",
       "       [1., 1., 1., 1.],\n",
       "       [1., 1., 1., 1.]])"
      ]
     },
     "execution_count": 266,
     "metadata": {},
     "output_type": "execute_result"
    }
   ],
   "source": [
    "x = np.zeros([3,4])\n",
    "(M,N) = x.shape\n",
    "for m in range(M):\n",
    "    for n in range(N):\n",
    "        x[m,n] = 1\n",
    "        \n",
    "x"
   ]
  },
  {
   "cell_type": "code",
   "execution_count": 45,
   "metadata": {},
   "outputs": [],
   "source": [
    "imgpath = \"D:/imageproc/beach.jpg\"\n",
    "img = cv2.imread(imgpath,1)\n",
    "cv2.imshow('image',img)\n",
    "cv2.waitKey(0)\n",
    "cv2.destroyAllWindows() "
   ]
  },
  {
   "cell_type": "code",
   "execution_count": 272,
   "metadata": {},
   "outputs": [],
   "source": []
  },
  {
   "cell_type": "code",
   "execution_count": 46,
   "metadata": {},
   "outputs": [],
   "source": []
  },
  {
   "cell_type": "code",
   "execution_count": 34,
   "metadata": {},
   "outputs": [],
   "source": [
    "import cv2\n",
    "import numpy as np\n",
    "from matplotlib import pyplot as plt\n",
    "from scipy import stats\n",
    "import random\n",
    "\n",
    "imgpath = \"D:/imageproc/beach.jpg\"\n",
    "img = cv2.imread(imgpath,1)\n",
    "\n",
    "def imagePros(img):\n",
    "    (M, N, C) = img.shape\n",
    "    for m in range(M):\n",
    "        for n in range(N):\n",
    "            img[m,n,2] = img[m,n,2] - 20  #red - 10\n",
    "            if(img[m,n,2] < 0):\n",
    "                img[m,n,2] = 0\n",
    "    print(img)\n",
    "    cv2.imshow('image',img)\n",
    "    cv2.waitKey(0)\n",
    "    cv2.destroyAllWindows() \n",
    "    \n",
    "def gsLightness(img):\n",
    "    (M, N, C) = img.shape\n",
    "    grayImage = np.zeros([M,N])\n",
    "    for m in range(M):\n",
    "        for n in range(N):\n",
    "            B = int(img[m,n,0]) \n",
    "            G = int(img[m,n,1])\n",
    "            R = int(img[m,n,2])           \n",
    "            grayImage[m,n] = round(((max(R,G,B)) + (min(R,G,B))) * 0.5)\n",
    "    return grayImage.astype('uint8')\n",
    "\n",
    "def gsAverage(img):\n",
    "    (M, N, C) = img.shape\n",
    "    grayImage = np.zeros([M,N])\n",
    "    for m in range(M):\n",
    "        for n in range(N):\n",
    "            B = int(img[m,n,0]) \n",
    "            G = int(img[m,n,1])\n",
    "            R = int(img[m,n,2])           \n",
    "            grayImage[m,n] = round((R+G+B)/3,0)\n",
    "    return grayImage.astype('uint8')\n",
    "\n",
    "def gsLuminosity(img):\n",
    "    (M, N, C) = img.shape\n",
    "    grayImage = np.zeros([M,N])\n",
    "    for m in range(M):\n",
    "        for n in range(N):\n",
    "            B = float(img[m,n,0]) \n",
    "            G = float(img[m,n,1])\n",
    "            R = float(img[m,n,2])           \n",
    "            grayImage[m,n] = round((0.21 * R) + (0.72 * G) + (0.07 * B))\n",
    "    return grayImage.astype('uint8')\n",
    "\n",
    "def bi(img):\n",
    "    img = gsAverage(img)\n",
    "    (M, N) = img.shape\n",
    "    newImage = np.zeros([M,N])\n",
    "    T = 127\n",
    "    for m in range(M):\n",
    "        for n in range(N):\n",
    "            if(img[m,n] <= T):\n",
    "                newImage[m,n] = 0\n",
    "            else:\n",
    "                newImage[m,n] = 255\n",
    "    return newImage.astype('uint8')\n",
    "\n",
    "def showImage(image):\n",
    "    cv2.imshow('image',image)\n",
    "    cv2.waitKey(0)\n",
    "    cv2.destroyAllWindows() "
   ]
  },
  {
   "cell_type": "code",
   "execution_count": 35,
   "metadata": {},
   "outputs": [],
   "source": [
    "gImage = gsLuminosity(img)\n",
    "bImage = bi(img)\n"
   ]
  },
  {
   "cell_type": "code",
   "execution_count": 37,
   "metadata": {},
   "outputs": [],
   "source": [
    "showImage(bImage)"
   ]
  },
  {
   "cell_type": "code",
   "execution_count": 19,
   "metadata": {},
   "outputs": [
    {
     "ename": "ValueError",
     "evalue": "not enough values to unpack (expected 3, got 2)",
     "output_type": "error",
     "traceback": [
      "\u001b[1;31m---------------------------------------------------------------------------\u001b[0m",
      "\u001b[1;31mValueError\u001b[0m                                Traceback (most recent call last)",
      "\u001b[1;32m<ipython-input-19-d09047e2b9d4>\u001b[0m in \u001b[0;36m<module>\u001b[1;34m\u001b[0m\n\u001b[1;32m----> 1\u001b[1;33m \u001b[0mimg\u001b[0m \u001b[1;33m=\u001b[0m \u001b[0mgsAverage\u001b[0m\u001b[1;33m(\u001b[0m\u001b[0mimg\u001b[0m\u001b[1;33m)\u001b[0m\u001b[1;33m\u001b[0m\u001b[1;33m\u001b[0m\u001b[0m\n\u001b[0m\u001b[0;32m      2\u001b[0m \u001b[0mimg\u001b[0m\u001b[1;33m\u001b[0m\u001b[1;33m\u001b[0m\u001b[0m\n",
      "\u001b[1;32m<ipython-input-15-80e5f056325b>\u001b[0m in \u001b[0;36mgsAverage\u001b[1;34m(img)\u001b[0m\n\u001b[0;32m     32\u001b[0m \u001b[1;33m\u001b[0m\u001b[0m\n\u001b[0;32m     33\u001b[0m \u001b[1;32mdef\u001b[0m \u001b[0mgsAverage\u001b[0m\u001b[1;33m(\u001b[0m\u001b[0mimg\u001b[0m\u001b[1;33m)\u001b[0m\u001b[1;33m:\u001b[0m\u001b[1;33m\u001b[0m\u001b[1;33m\u001b[0m\u001b[0m\n\u001b[1;32m---> 34\u001b[1;33m     \u001b[1;33m(\u001b[0m\u001b[0mM\u001b[0m\u001b[1;33m,\u001b[0m \u001b[0mN\u001b[0m\u001b[1;33m,\u001b[0m \u001b[0mC\u001b[0m\u001b[1;33m)\u001b[0m \u001b[1;33m=\u001b[0m \u001b[0mimg\u001b[0m\u001b[1;33m.\u001b[0m\u001b[0mshape\u001b[0m\u001b[1;33m\u001b[0m\u001b[1;33m\u001b[0m\u001b[0m\n\u001b[0m\u001b[0;32m     35\u001b[0m     \u001b[0mgrayImage\u001b[0m \u001b[1;33m=\u001b[0m \u001b[0mnp\u001b[0m\u001b[1;33m.\u001b[0m\u001b[0mzeros\u001b[0m\u001b[1;33m(\u001b[0m\u001b[1;33m[\u001b[0m\u001b[0mM\u001b[0m\u001b[1;33m,\u001b[0m\u001b[0mN\u001b[0m\u001b[1;33m]\u001b[0m\u001b[1;33m)\u001b[0m\u001b[1;33m\u001b[0m\u001b[1;33m\u001b[0m\u001b[0m\n\u001b[0;32m     36\u001b[0m     \u001b[1;32mfor\u001b[0m \u001b[0mm\u001b[0m \u001b[1;32min\u001b[0m \u001b[0mrange\u001b[0m\u001b[1;33m(\u001b[0m\u001b[0mM\u001b[0m\u001b[1;33m)\u001b[0m\u001b[1;33m:\u001b[0m\u001b[1;33m\u001b[0m\u001b[1;33m\u001b[0m\u001b[0m\n",
      "\u001b[1;31mValueError\u001b[0m: not enough values to unpack (expected 3, got 2)"
     ]
    }
   ],
   "source": []
  },
  {
   "cell_type": "code",
   "execution_count": null,
   "metadata": {},
   "outputs": [],
   "source": []
  },
  {
   "cell_type": "code",
   "execution_count": 85,
   "metadata": {},
   "outputs": [],
   "source": []
  },
  {
   "cell_type": "code",
   "execution_count": 94,
   "metadata": {},
   "outputs": [],
   "source": [
    "lg = gsLightness(img)\n",
    "av = gsAverage(img)\n",
    "lum = gsLuminosity(img)\n"
   ]
  },
  {
   "cell_type": "code",
   "execution_count": 95,
   "metadata": {},
   "outputs": [],
   "source": [
    "showImage(lg)\n"
   ]
  },
  {
   "cell_type": "code",
   "execution_count": 90,
   "metadata": {},
   "outputs": [
    {
     "data": {
      "text/plain": [
       "array([[146, 146, 146, ...,  30,  36,  49],\n",
       "       [146, 146, 146, ...,  33,  38,  50],\n",
       "       [146, 146, 146, ...,  33,  37,  46],\n",
       "       ...,\n",
       "       [203, 204, 204, ..., 193, 193, 193],\n",
       "       [204, 204, 203, ..., 192, 189, 188],\n",
       "       [205, 204, 202, ..., 189, 186, 184]], dtype=uint8)"
      ]
     },
     "execution_count": 90,
     "metadata": {},
     "output_type": "execute_result"
    }
   ],
   "source": [
    "av\n"
   ]
  },
  {
   "cell_type": "code",
   "execution_count": 89,
   "metadata": {},
   "outputs": [
    {
     "data": {
      "text/plain": [
       "array([[131, 131, 131, ...,  31,  38,  51],\n",
       "       [131, 131, 131, ...,  34,  40,  52],\n",
       "       [131, 131, 131, ...,  34,  40,  49],\n",
       "       ...,\n",
       "       [204, 205, 205, ..., 194, 194, 194],\n",
       "       [205, 205, 204, ..., 193, 190, 189],\n",
       "       [206, 205, 203, ..., 190, 187, 185]], dtype=uint8)"
      ]
     },
     "execution_count": 89,
     "metadata": {},
     "output_type": "execute_result"
    }
   ],
   "source": [
    "lum"
   ]
  },
  {
   "cell_type": "code",
   "execution_count": null,
   "metadata": {},
   "outputs": [],
   "source": []
  }
 ],
 "metadata": {
  "kernelspec": {
   "display_name": "Python 3",
   "language": "python",
   "name": "python3"
  },
  "language_info": {
   "codemirror_mode": {
    "name": "ipython",
    "version": 3
   },
   "file_extension": ".py",
   "mimetype": "text/x-python",
   "name": "python",
   "nbconvert_exporter": "python",
   "pygments_lexer": "ipython3",
   "version": "3.7.1"
  }
 },
 "nbformat": 4,
 "nbformat_minor": 2
}
