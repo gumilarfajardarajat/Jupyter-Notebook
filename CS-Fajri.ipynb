{
 "cells": [
  {
   "cell_type": "code",
   "execution_count": null,
   "metadata": {},
   "outputs": [],
   "source": [
    "import cv2\n",
    "import numpy as np\n",
    "import matplotlib.pyplot as plt\n",
    "from collections import Counter\n",
    "\n",
    "def showImage(data):\n",
    "    if(type(data) is list):\n",
    "        for i in range(len(data)):\n",
    "            cv2.imshow('Gambar'+str(i+1),data[i])\n",
    "    elif((type(data).__module__) == \"numpy\"):\n",
    "        cv2.imshow('Gambar',data)\n",
    "    else:\n",
    "        print('File Error')\n",
    "    \n",
    "    cv2.waitKey(0)\n",
    "    cv2.destroyAllWindows() \n",
    "    \n",
    "def getfeature(img):\n",
    "    rgb = cv2.cvtColor(img, cv2.COLOR_BGR2RGB)\n",
    "    hsv = cv2.cvtColor(img, cv2.COLOR_RGB2HSV)\n",
    "    maxg = (100, 255,   255)\n",
    "    ming = ( 34, 100,  10)\n",
    "    mask = cv2.inRange(hsv,ming,maxg)\n",
    "    result = cv2.bitwise_and(img, img, mask=mask)\n",
    "#     r,g,b = cv2.split(result)\n",
    "#     ext = [(r.mean(),g.mean(),b.mean(),r.std(),g.std(),b.std())]\n",
    "    return result"
   ]
  },
  {
   "cell_type": "code",
   "execution_count": null,
   "metadata": {},
   "outputs": [],
   "source": [
    "path = \"D:\\imageproc\\Level 4\\lv4-8.jpg\"\n",
    "img = cv2.imread(path,1)\n"
   ]
  }
 ],
 "metadata": {
  "kernelspec": {
   "display_name": "Python 3",
   "language": "python",
   "name": "python3"
  },
  "language_info": {
   "codemirror_mode": {
    "name": "ipython",
    "version": 3
   },
   "file_extension": ".py",
   "mimetype": "text/x-python",
   "name": "python",
   "nbconvert_exporter": "python",
   "pygments_lexer": "ipython3",
   "version": "3.7.1"
  }
 },
 "nbformat": 4,
 "nbformat_minor": 2
}
