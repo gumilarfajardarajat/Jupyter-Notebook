{
 "cells": [
  {
   "cell_type": "code",
   "execution_count": 85,
   "metadata": {},
   "outputs": [],
   "source": [
    "import numpy as np\n",
    "import math"
   ]
  },
  {
   "cell_type": "code",
   "execution_count": 315,
   "metadata": {},
   "outputs": [],
   "source": [
    "#inisialisasi Data\n",
    "x = []\n",
    "x.append(np.array([[0.12754495, 0.27328262, 0.12516046, 0.09987776, 0.035886575, 0.032590449, 0.07260479, 0.11954675, 0.27328262]]))\n",
    "x.append(np.array([[0.15088975, 0.026249984, 0.022723604, 0.014922906, 0.012968333, 0.044205263, 0.029304616, 0.032117538, 0.049614504]]))\n",
    "x.append(np.array([[0.013878325, 0.019257149, 0.069052674, 0.044492051, 0.03945737, 0.031512253, 0.017326111, 0.004935669, 0.008482872]]))\n",
    "x.append(np.array([[0.040298317, 0.030995749, 0.024047103, 0.018927943, 0.017341301, 0.025317641, 0.011101517, 0.028269431, 0.010242061]]))\n",
    "x.append(np.array([[0.0971625, 0.26421747, 0.26515943, 0.18636486, 0.019709533, 0.007429486, 0.011253806, 0.013172934, 0.017112879]]))\n",
    "\n",
    "y = []\n",
    "y.append([[1]])\n",
    "y.append([[-1]])\n",
    "y.append([[-1]])\n",
    "y.append([[-1]])\n",
    "y.append([[-1]])"
   ]
  },
  {
   "cell_type": "code",
   "execution_count": 316,
   "metadata": {},
   "outputs": [
    {
     "data": {
      "text/plain": [
       "[array([[0.12754495, 0.27328262, 0.12516046, 0.09987776, 0.03588657,\n",
       "         0.03259045, 0.07260479, 0.11954675, 0.27328262]]),\n",
       " array([[0.15088975, 0.02624998, 0.0227236 , 0.01492291, 0.01296833,\n",
       "         0.04420526, 0.02930462, 0.03211754, 0.0496145 ]]),\n",
       " array([[0.01387833, 0.01925715, 0.06905267, 0.04449205, 0.03945737,\n",
       "         0.03151225, 0.01732611, 0.00493567, 0.00848287]]),\n",
       " array([[0.04029832, 0.03099575, 0.0240471 , 0.01892794, 0.0173413 ,\n",
       "         0.02531764, 0.01110152, 0.02826943, 0.01024206]]),\n",
       " array([[0.0971625 , 0.26421747, 0.26515943, 0.18636486, 0.01970953,\n",
       "         0.00742949, 0.01125381, 0.01317293, 0.01711288]])]"
      ]
     },
     "execution_count": 316,
     "metadata": {},
     "output_type": "execute_result"
    }
   ],
   "source": [
    "x"
   ]
  },
  {
   "cell_type": "code",
   "execution_count": 306,
   "metadata": {},
   "outputs": [],
   "source": [
    "# Perhitungan 𝐾(𝑥𝑖,𝑥)= 𝑥𝑖𝑇𝑥 \n",
    "sx = len(x)\n",
    "sy = len(y)\n",
    "xtx = np.zeros([sx,sx])\n",
    "yty = np.zeros([sy,sy])\n",
    "for i in range(sx):\n",
    "    for j in range(sx):\n",
    "        valx = np.dot(x[j],np.transpose(x[i]))\n",
    "        valy = np.dot(y[j],np.transpose(y[i]))\n",
    "        xtx[i][j] = valx\n",
    "        yty[i][j] = valy"
   ]
  },
  {
   "cell_type": "code",
   "execution_count": 321,
   "metadata": {},
   "outputs": [],
   "source": [
    "# Proses mendapatkan nilai ai diawali dengan mengubah setiap data training menjadi nilai vektor (support vector) = 𝑥𝑦\n",
    "svx = []\n",
    "svy = []\n",
    "for i in range(sx):\n",
    "    valx = 0\n",
    "    valy = 0\n",
    "    for j in range(sx):\n",
    "        valx = valx + np.dot(x[j],np.transpose(x[i]))\n",
    "        valy = valy + np.dot(y[j],np.transpose(y[i]))\n",
    "    svx.append(valx) \n",
    "    svy.append(valy)"
   ]
  },
  {
   "cell_type": "code",
   "execution_count": 322,
   "metadata": {},
   "outputs": [
    {
     "data": {
      "text/plain": [
       "[array([[0.46346235]]),\n",
       " array([[0.13407759]]),\n",
       " array([[0.08482545]]),\n",
       " array([[0.07201252]]),\n",
       " array([[0.42000284]])]"
      ]
     },
     "execution_count": 322,
     "metadata": {},
     "output_type": "execute_result"
    }
   ],
   "source": [
    "svx"
   ]
  },
  {
   "cell_type": "code",
   "execution_count": 319,
   "metadata": {},
   "outputs": [],
   "source": [
    "bix = []\n",
    "biy = []\n",
    "for i in range(sx):\n",
    "    valx = 0\n",
    "    valy = 0\n",
    "    \n",
    "    valx = 4 - svy[i] + abs(svx[i] - svy[i])\n",
    "    valy = 4 - svx[i] + abs(svy[i] - svx[i])\n",
    "    \n",
    "    bix.append(valx) \n",
    "    biy.append(valy)"
   ]
  },
  {
   "cell_type": "code",
   "execution_count": 320,
   "metadata": {},
   "outputs": [
    {
     "data": {
      "text/plain": [
       "[array([[10.46346235]]),\n",
       " array([[3.86592241]]),\n",
       " array([[3.91517455]]),\n",
       " array([[3.92798748]]),\n",
       " array([[3.57999716]])]"
      ]
     },
     "execution_count": 320,
     "metadata": {},
     "output_type": "execute_result"
    }
   ],
   "source": [
    "bix"
   ]
  },
  {
   "cell_type": "code",
   "execution_count": 94,
   "metadata": {},
   "outputs": [],
   "source": [
    "a = np.zeros([len(bix),3])\n",
    "for i in range(len(a)):\n",
    "    a[i][0] = bix[i]\n",
    "    a[i][1] = biy[i]\n",
    "    a[i][2] = 1"
   ]
  },
  {
   "cell_type": "code",
   "execution_count": 95,
   "metadata": {},
   "outputs": [],
   "source": [
    "ait = np.zeros([len(a),len(a)])\n",
    "for i in range(len(a)):\n",
    "    val = 0\n",
    "    for j in range(len(a)):\n",
    "        val = np.dot(np.array([a[i]]),np.array([a[j]]).transpose())\n",
    "        ait[i][j] = val"
   ]
  },
  {
   "cell_type": "code",
   "execution_count": 323,
   "metadata": {},
   "outputs": [
    {
     "data": {
      "text/plain": [
       "array([[159.4840443 ,  88.57384728,  89.77872527,  90.09217378,\n",
       "         81.57912572],\n",
       "       [ 88.57384728,  61.26309071,  62.11661127,  62.3386543 ,\n",
       "         56.30811707],\n",
       "       [ 89.77872527,  62.11661127,  62.98226071,  63.20745905,\n",
       "         57.09122548],\n",
       "       [ 90.09217378,  62.3386543 ,  63.20745905,  63.43347824,\n",
       "         57.2949508 ],\n",
       "       [ 81.57912572,  56.30811707,  57.09122548,  57.2949508 ,\n",
       "         51.76190967]])"
      ]
     },
     "execution_count": 323,
     "metadata": {},
     "output_type": "execute_result"
    }
   ],
   "source": [
    "ait"
   ]
  },
  {
   "cell_type": "code",
   "execution_count": 61,
   "metadata": {},
   "outputs": [],
   "source": [
    "ai = []\n",
    "ai.append(-0.077357940935783276382)\n",
    "ai.append(2.2947223774418206107)\n",
    "ai.append(-2.4198610401646064564)\n",
    "ai.append(1.9754949454708662456)\n",
    "ai.append(-1.7729979972446651147)"
   ]
  },
  {
   "cell_type": "code",
   "execution_count": 12,
   "metadata": {},
   "outputs": [],
   "source": [
    "jumlah = float(0)\n",
    "for i in range(len(ait)):\n",
    "    jumlah = ait[0][i]*ai[i]"
   ]
  },
  {
   "cell_type": "code",
   "execution_count": 13,
   "metadata": {},
   "outputs": [
    {
     "data": {
      "text/plain": [
       "-144.6396265137869"
      ]
     },
     "execution_count": 13,
     "metadata": {},
     "output_type": "execute_result"
    }
   ],
   "source": [
    "jumlah"
   ]
  },
  {
   "cell_type": "code",
   "execution_count": 226,
   "metadata": {},
   "outputs": [
    {
     "name": "stdout",
     "output_type": "stream",
     "text": [
      "159.48404429997294\n",
      "88.57384728147235\n",
      "89.77872527247715\n",
      "90.09217378337152\n",
      "81.57912571732439\n"
     ]
    }
   ],
   "source": [
    "jumlah = 0\n",
    "for i in range(len(ait)):\n",
    "    \n",
    "    print(ait[0][i])"
   ]
  },
  {
   "cell_type": "code",
   "execution_count": 174,
   "metadata": {},
   "outputs": [
    {
     "data": {
      "text/plain": [
       "array([[10.46346235],\n",
       "       [ 7.        ],\n",
       "       [ 1.        ]])"
      ]
     },
     "execution_count": 174,
     "metadata": {},
     "output_type": "execute_result"
    }
   ],
   "source": [
    "np.array([a[0]]).transpose()"
   ]
  },
  {
   "cell_type": "code",
   "execution_count": 64,
   "metadata": {},
   "outputs": [
    {
     "data": {
      "text/plain": [
       "[array([[7.]]),\n",
       " array([[6.73184482]]),\n",
       " array([[6.83034911]]),\n",
       " array([[6.85597496]]),\n",
       " array([[6.15999432]])]"
      ]
     },
     "execution_count": 64,
     "metadata": {},
     "output_type": "execute_result"
    }
   ],
   "source": [
    "biy"
   ]
  },
  {
   "cell_type": "code",
   "execution_count": 96,
   "metadata": {},
   "outputs": [
    {
     "data": {
      "text/plain": [
       "array([[10.46346235]])"
      ]
     },
     "execution_count": 96,
     "metadata": {},
     "output_type": "execute_result"
    }
   ],
   "source": [
    "4 - svy[0] + abs(svx[0] - svy[0])"
   ]
  },
  {
   "cell_type": "code",
   "execution_count": 97,
   "metadata": {},
   "outputs": [
    {
     "data": {
      "text/plain": [
       "array([[7.]])"
      ]
     },
     "execution_count": 97,
     "metadata": {},
     "output_type": "execute_result"
    }
   ],
   "source": [
    "4 - svx[0] + abs(svy[0] - svx[0])"
   ]
  },
  {
   "cell_type": "code",
   "execution_count": 42,
   "metadata": {},
   "outputs": [
    {
     "data": {
      "text/plain": [
       "array([[0.46346235]])"
      ]
     },
     "execution_count": 42,
     "metadata": {},
     "output_type": "execute_result"
    }
   ],
   "source": [
    "np.dot(x1,np.transpose(x1)) + np.dot(x2,np.transpose(x1)) + np.dot(x3,np.transpose(x1)) + np.dot(x4,np.transpose(x1)) + np.dot(x5,np.transpose(x1))"
   ]
  },
  {
   "cell_type": "code",
   "execution_count": 14,
   "metadata": {},
   "outputs": [],
   "source": [
    "K = np.array([[2,6,-4]])\n",
    "M = np.transpose(np.array([[4,8,1]]))"
   ]
  },
  {
   "cell_type": "code",
   "execution_count": 234,
   "metadata": {},
   "outputs": [
    {
     "data": {
      "text/plain": [
       "7.0"
      ]
     },
     "execution_count": 234,
     "metadata": {},
     "output_type": "execute_result"
    }
   ],
   "source": [
    "159.4840443*ai[0] + 88.57384728*ai[1] + 89.77872528*ai[2] + 90.09217378*ai[3] + 81.57912572*ai[4]"
   ]
  },
  {
   "cell_type": "code",
   "execution_count": 227,
   "metadata": {},
   "outputs": [
    {
     "data": {
      "text/plain": [
       "array([[159.4840443 ,  88.57384728,  89.77872527,  90.09217378,\n",
       "         81.57912572],\n",
       "       [ 88.57384728,  61.26309071,  62.11661127,  62.3386543 ,\n",
       "         56.30811707],\n",
       "       [ 89.77872527,  62.11661127,  62.98226071,  63.20745905,\n",
       "         57.09122548],\n",
       "       [ 90.09217378,  62.3386543 ,  63.20745905,  63.43347824,\n",
       "         57.2949508 ],\n",
       "       [ 81.57912572,  56.30811707,  57.09122548,  57.2949508 ,\n",
       "         51.76190967]])"
      ]
     },
     "execution_count": 227,
     "metadata": {},
     "output_type": "execute_result"
    }
   ],
   "source": [
    "ait"
   ]
  },
  {
   "cell_type": "code",
   "execution_count": 14,
   "metadata": {},
   "outputs": [],
   "source": [
    "def gauss(A):\n",
    "    m = len(A)\n",
    "    assert all([len(row) == m + 1 for row in A[1:]]), \"Matrix rows have non-uniform length\"\n",
    "    n = m + 1\n",
    "    \n",
    "    for k in range(m):\n",
    "        pivots = [abs(A[i][k]) for i in range(k, m)]\n",
    "        i_max = pivots.index(max(pivots)) + k\n",
    "        \n",
    "        # Check for singular matrix\n",
    "        assert A[i_max][k] != 0, \"Matrix is singular!\"\n",
    "        \n",
    "        # Swap rows\n",
    "        A[k], A[i_max] = A[i_max], A[k]\n",
    "\n",
    "        \n",
    "        for i in range(k + 1, m):\n",
    "            f = A[i][k] / A[k][k]\n",
    "            for j in range(k + 1, n):\n",
    "                A[i][j] -= A[k][j] * f\n",
    "\n",
    "            # Fill lower triangular matrix with zeros:\n",
    "            A[i][k] = 0\n",
    "    \n",
    "    # Solve equation Ax=b for an upper triangular matrix A         \n",
    "    x = []\n",
    "    for i in range(m - 1, -1, -1):\n",
    "        x.insert(0, A[i][m] / A[i][i])\n",
    "        for k in range(i - 1, -1, -1):\n",
    "            A[k][m] -= A[k][i] * x[0]\n",
    "    return x"
   ]
  },
  {
   "cell_type": "code",
   "execution_count": 41,
   "metadata": {},
   "outputs": [
    {
     "ename": "AssertionError",
     "evalue": "Matrix is singular!",
     "output_type": "error",
     "traceback": [
      "\u001b[1;31m---------------------------------------------------------------------------\u001b[0m",
      "\u001b[1;31mAssertionError\u001b[0m                            Traceback (most recent call last)",
      "\u001b[1;32m<ipython-input-41-0c44976a38ba>\u001b[0m in \u001b[0;36m<module>\u001b[1;34m\u001b[0m\n\u001b[1;32m----> 1\u001b[1;33m \u001b[0mgauss\u001b[0m\u001b[1;33m(\u001b[0m\u001b[0mmat\u001b[0m\u001b[1;33m)\u001b[0m\u001b[1;33m\u001b[0m\u001b[1;33m\u001b[0m\u001b[0m\n\u001b[0m",
      "\u001b[1;32m<ipython-input-14-591ee4d4f263>\u001b[0m in \u001b[0;36mgauss\u001b[1;34m(A)\u001b[0m\n\u001b[0;32m      9\u001b[0m \u001b[1;33m\u001b[0m\u001b[0m\n\u001b[0;32m     10\u001b[0m         \u001b[1;31m# Check for singular matrix\u001b[0m\u001b[1;33m\u001b[0m\u001b[1;33m\u001b[0m\u001b[1;33m\u001b[0m\u001b[0m\n\u001b[1;32m---> 11\u001b[1;33m         \u001b[1;32massert\u001b[0m \u001b[0mA\u001b[0m\u001b[1;33m[\u001b[0m\u001b[0mi_max\u001b[0m\u001b[1;33m]\u001b[0m\u001b[1;33m[\u001b[0m\u001b[0mk\u001b[0m\u001b[1;33m]\u001b[0m \u001b[1;33m!=\u001b[0m \u001b[1;36m0\u001b[0m\u001b[1;33m,\u001b[0m \u001b[1;34m\"Matrix is singular!\"\u001b[0m\u001b[1;33m\u001b[0m\u001b[1;33m\u001b[0m\u001b[0m\n\u001b[0m\u001b[0;32m     12\u001b[0m \u001b[1;33m\u001b[0m\u001b[0m\n\u001b[0;32m     13\u001b[0m         \u001b[1;31m# Swap rows\u001b[0m\u001b[1;33m\u001b[0m\u001b[1;33m\u001b[0m\u001b[1;33m\u001b[0m\u001b[0m\n",
      "\u001b[1;31mAssertionError\u001b[0m: Matrix is singular!"
     ]
    }
   ],
   "source": [
    "gauss(mat)"
   ]
  },
  {
   "cell_type": "code",
   "execution_count": 38,
   "metadata": {},
   "outputs": [],
   "source": [
    "B = ait.shape[0]\n",
    "K = ait.shape[0] + 1\n",
    "mat = np.zeros([B,K])"
   ]
  },
  {
   "cell_type": "code",
   "execution_count": 39,
   "metadata": {
    "scrolled": true
   },
   "outputs": [],
   "source": [
    "for i in range(B):\n",
    "    for j in range(K):\n",
    "        if(j == (K-1)):\n",
    "            mat[i,j] = biy[i]\n",
    "        else:\n",
    "            mat[i,j] = ait[i,j]\n"
   ]
  },
  {
   "cell_type": "code",
   "execution_count": 53,
   "metadata": {},
   "outputs": [
    {
     "data": {
      "text/plain": [
       "array([[7.]])"
      ]
     },
     "execution_count": 53,
     "metadata": {},
     "output_type": "execute_result"
    }
   ],
   "source": []
  },
  {
   "cell_type": "code",
   "execution_count": 65,
   "metadata": {},
   "outputs": [
    {
     "ename": "ValueError",
     "evalue": "solve: Input operand 1 has a mismatch in its core dimension 0, with gufunc signature (m,m),(m,n)->(m,n) (size 1 is different from 5)",
     "output_type": "error",
     "traceback": [
      "\u001b[1;31m---------------------------------------------------------------------------\u001b[0m",
      "\u001b[1;31mValueError\u001b[0m                                Traceback (most recent call last)",
      "\u001b[1;32m<ipython-input-65-e51b9844f7a4>\u001b[0m in \u001b[0;36m<module>\u001b[1;34m\u001b[0m\n\u001b[0;32m      1\u001b[0m \u001b[0ma\u001b[0m \u001b[1;33m=\u001b[0m \u001b[0mnp\u001b[0m\u001b[1;33m.\u001b[0m\u001b[0marray\u001b[0m\u001b[1;33m(\u001b[0m\u001b[1;33m[\u001b[0m\u001b[1;33m[\u001b[0m\u001b[1;36m3\u001b[0m\u001b[1;33m,\u001b[0m\u001b[1;36m1\u001b[0m\u001b[1;33m]\u001b[0m\u001b[1;33m,\u001b[0m \u001b[1;33m[\u001b[0m\u001b[1;36m1\u001b[0m\u001b[1;33m,\u001b[0m\u001b[1;36m2\u001b[0m\u001b[1;33m]\u001b[0m\u001b[1;33m]\u001b[0m\u001b[1;33m)\u001b[0m\u001b[1;33m\u001b[0m\u001b[1;33m\u001b[0m\u001b[0m\n\u001b[0;32m      2\u001b[0m \u001b[0mb\u001b[0m \u001b[1;33m=\u001b[0m \u001b[0mnp\u001b[0m\u001b[1;33m.\u001b[0m\u001b[0marray\u001b[0m\u001b[1;33m(\u001b[0m\u001b[1;33m[\u001b[0m\u001b[1;36m9\u001b[0m\u001b[1;33m,\u001b[0m\u001b[1;36m8\u001b[0m\u001b[1;33m]\u001b[0m\u001b[1;33m)\u001b[0m\u001b[1;33m\u001b[0m\u001b[1;33m\u001b[0m\u001b[0m\n\u001b[1;32m----> 3\u001b[1;33m \u001b[0mx\u001b[0m \u001b[1;33m=\u001b[0m \u001b[0mnp\u001b[0m\u001b[1;33m.\u001b[0m\u001b[0mlinalg\u001b[0m\u001b[1;33m.\u001b[0m\u001b[0msolve\u001b[0m\u001b[1;33m(\u001b[0m\u001b[0mait\u001b[0m\u001b[1;33m,\u001b[0m \u001b[0mbiy\u001b[0m\u001b[1;33m)\u001b[0m\u001b[1;33m\u001b[0m\u001b[1;33m\u001b[0m\u001b[0m\n\u001b[0m\u001b[0;32m      4\u001b[0m \u001b[0ma\u001b[0m\u001b[1;33m\u001b[0m\u001b[1;33m\u001b[0m\u001b[0m\n",
      "\u001b[1;32m~\\Anaconda3\\lib\\site-packages\\numpy\\linalg\\linalg.py\u001b[0m in \u001b[0;36msolve\u001b[1;34m(a, b)\u001b[0m\n\u001b[0;32m    392\u001b[0m     \u001b[0msignature\u001b[0m \u001b[1;33m=\u001b[0m \u001b[1;34m'DD->D'\u001b[0m \u001b[1;32mif\u001b[0m \u001b[0misComplexType\u001b[0m\u001b[1;33m(\u001b[0m\u001b[0mt\u001b[0m\u001b[1;33m)\u001b[0m \u001b[1;32melse\u001b[0m \u001b[1;34m'dd->d'\u001b[0m\u001b[1;33m\u001b[0m\u001b[1;33m\u001b[0m\u001b[0m\n\u001b[0;32m    393\u001b[0m     \u001b[0mextobj\u001b[0m \u001b[1;33m=\u001b[0m \u001b[0mget_linalg_error_extobj\u001b[0m\u001b[1;33m(\u001b[0m\u001b[0m_raise_linalgerror_singular\u001b[0m\u001b[1;33m)\u001b[0m\u001b[1;33m\u001b[0m\u001b[1;33m\u001b[0m\u001b[0m\n\u001b[1;32m--> 394\u001b[1;33m     \u001b[0mr\u001b[0m \u001b[1;33m=\u001b[0m \u001b[0mgufunc\u001b[0m\u001b[1;33m(\u001b[0m\u001b[0ma\u001b[0m\u001b[1;33m,\u001b[0m \u001b[0mb\u001b[0m\u001b[1;33m,\u001b[0m \u001b[0msignature\u001b[0m\u001b[1;33m=\u001b[0m\u001b[0msignature\u001b[0m\u001b[1;33m,\u001b[0m \u001b[0mextobj\u001b[0m\u001b[1;33m=\u001b[0m\u001b[0mextobj\u001b[0m\u001b[1;33m)\u001b[0m\u001b[1;33m\u001b[0m\u001b[1;33m\u001b[0m\u001b[0m\n\u001b[0m\u001b[0;32m    395\u001b[0m \u001b[1;33m\u001b[0m\u001b[0m\n\u001b[0;32m    396\u001b[0m     \u001b[1;32mreturn\u001b[0m \u001b[0mwrap\u001b[0m\u001b[1;33m(\u001b[0m\u001b[0mr\u001b[0m\u001b[1;33m.\u001b[0m\u001b[0mastype\u001b[0m\u001b[1;33m(\u001b[0m\u001b[0mresult_t\u001b[0m\u001b[1;33m,\u001b[0m \u001b[0mcopy\u001b[0m\u001b[1;33m=\u001b[0m\u001b[1;32mFalse\u001b[0m\u001b[1;33m)\u001b[0m\u001b[1;33m)\u001b[0m\u001b[1;33m\u001b[0m\u001b[1;33m\u001b[0m\u001b[0m\n",
      "\u001b[1;31mValueError\u001b[0m: solve: Input operand 1 has a mismatch in its core dimension 0, with gufunc signature (m,m),(m,n)->(m,n) (size 1 is different from 5)"
     ]
    }
   ],
   "source": [
    "a = np.array([[3,1], [1,2]])\n",
    "b = np.array([9,8])\n",
    "x = np.linalg.solve(ait, biy)\n",
    "a"
   ]
  },
  {
   "cell_type": "code",
   "execution_count": 86,
   "metadata": {},
   "outputs": [
    {
     "data": {
      "text/plain": [
       "array([], dtype=float64)"
      ]
     },
     "execution_count": 86,
     "metadata": {},
     "output_type": "execute_result"
    }
   ],
   "source": [
    "np.array([])"
   ]
  }
 ],
 "metadata": {
  "kernelspec": {
   "display_name": "Python 3",
   "language": "python",
   "name": "python3"
  },
  "language_info": {
   "codemirror_mode": {
    "name": "ipython",
    "version": 3
   },
   "file_extension": ".py",
   "mimetype": "text/x-python",
   "name": "python",
   "nbconvert_exporter": "python",
   "pygments_lexer": "ipython3",
   "version": "3.7.1"
  }
 },
 "nbformat": 4,
 "nbformat_minor": 2
}
