{
 "cells": [
  {
   "cell_type": "code",
   "execution_count": 15,
   "metadata": {},
   "outputs": [],
   "source": [
    "import cv2\n",
    "import numpy as np\n",
    "from collections import Counter\n",
    "import matplotlib.pyplot as plt\n",
    "import pandas as pd\n",
    "\n",
    "def openImage(data):\n",
    "    if(type(data) is list):\n",
    "        for i in range(len(data)):\n",
    "            img = cv2.imread(data[i])\n",
    "            if(type(img).__module__ == \"numpy\"):\n",
    "                name = data[i].rfind('/') + 1\n",
    "                cv2.imshow(data[i][name:],img)\n",
    "            else:\n",
    "                print(\"data ke\",i,\"bukan gambar\")\n",
    "    elif((type(cv2.imread(data)).__module__) == \"numpy\"):\n",
    "        img = cv2.imread(data)\n",
    "        name = data.rfind('/') + 1\n",
    "        cv2.imshow(data[name:],img)\n",
    "    else:\n",
    "        print('File Error')\n",
    "    \n",
    "    cv2.waitKey(0)\n",
    "    cv2.destroyAllWindows() \n",
    "    \n",
    "def showImage(data):\n",
    "    if(type(data) is list):\n",
    "        for i in range(len(data)):\n",
    "            cv2.imshow('Gambar'+str(i+1),data[i])\n",
    "    elif((type(data).__module__) == \"numpy\"):\n",
    "        cv2.imshow('Gambar',data)\n",
    "    else:\n",
    "        print('File Error')\n",
    "    \n",
    "    cv2.waitKey(0)\n",
    "    cv2.destroyAllWindows() \n",
    "\n",
    "def slashImg(img,pattern):\n",
    "    (M, N, C) = img.shape\n",
    "    newImage = np.zeros([M,N,C])\n",
    "    for m in range(M):\n",
    "        for n in range(N):\n",
    "            target = pattern[m,n]\n",
    "            if(target == 0):\n",
    "                newImage[m,n,0] = img[m,n,0]\n",
    "                newImage[m,n,1] = img[m,n,1]\n",
    "                newImage[m,n,2] = img[m,n,2]\n",
    "            else:\n",
    "                newImage[m,n,0] = 0\n",
    "                newImage[m,n,1] = 0\n",
    "                newImage[m,n,2] = 0\n",
    "    return newImage.astype('uint8')\n",
    "\n",
    "def brightness(img,val):\n",
    "    M,N = img.shape\n",
    "    result = np.zeros([M,N])\n",
    "    for i in range(M):\n",
    "        for j in range(N):\n",
    "            result[i,j] = img[i,j] + val\n",
    "            if(result[i,j]>255):\n",
    "                result[i,j] = 255\n",
    "            if(result[i,j]<0):\n",
    "                result[i,j] = 0       \n",
    "    result = result.astype('uint8')\n",
    "    return result \n",
    "\n",
    "def contrast(img,val):\n",
    "    M,N = img.shape\n",
    "    result = np.zeros([M,N])\n",
    "    for i in range(M):\n",
    "        for j in range(N):\n",
    "            result[i,j] = img[i,j] * val\n",
    "            if(result[i,j]>255):\n",
    "                result[i,j] = 255\n",
    "            if(result[i,j]<0):\n",
    "                result[i,j] = 0       \n",
    "    result = result.astype('uint8')\n",
    "    return result   \n",
    "\n",
    "# def perataan(image)\n",
    "#     newimage = np.copy(image)\n",
    "#     B,K = img3.shape\n",
    "#     for i in range(1,B-1):\n",
    "#         for j in range(1,K-1):\n",
    "#             npixel = int(newimage[i-1,j-1]) + int(newimage[i-1,j]) + int(newimage[i-1,j+1]) + int(newimage[i,j-1]) + int(newimage[i,j]) + int(newimage[i,j+1]) + int(newimage[i+1,j-1]) + int(newimage[i+1,j]) + int(newimage[i+1,j+1]) \n",
    "#             new[i,j] = 1/9*npixel"
   ]
  },
  {
   "cell_type": "code",
   "execution_count": 141,
   "metadata": {},
   "outputs": [],
   "source": [
    "imgpath1 = \"D:\\imageproc\\Level 2\\lv2-7.jpg\"\n",
    "imgpath2 = \"D:\\imageproc\\Level 3\\lv3-2.jpg\"\n",
    "imgpath3 = \"D:\\imageproc\\Level 4\\lv4-7.jpg\"\n",
    "img1 = cv2.imread(imgpath1,0)\n",
    "img2 = cv2.imread(imgpath2,0)\n",
    "img3 = cv2.imread(imgpath3,0)\n",
    "img1 = cv2.resize(img1,None,fx=0.5,fy=0.5)\n",
    "img2 = cv2.resize(img2,None,fx=0.5,fy=0.5)\n",
    "img3 = cv2.resize(img3,None,fx=0.5,fy=0.5)\n",
    "limg = [img1,img2,img3]\n",
    "\n",
    "\n"
   ]
  },
  {
   "cell_type": "code",
   "execution_count": 143,
   "metadata": {},
   "outputs": [],
   "source": [
    "newimage = np.copy(img3)\n",
    "B,K = img3.shape\n",
    "for i in range(1,B-1):\n",
    "    for j in range(1,K-1):\n",
    "        npixel = int(newimage[i-1,j-1]) + int(newimage[i-1,j]) + int(newimage[i-1,j+1]) + int(newimage[i,j-1]) + int(newimage[i,j]) + int(newimage[i,j+1]) + int(newimage[i+1,j-1]) + int(newimage[i+1,j]) + int(newimage[i+1,j+1]) \n",
    "        newimage[i,j] = 1/9*npixel\n",
    "        "
   ]
  },
  {
   "cell_type": "code",
   "execution_count": 144,
   "metadata": {},
   "outputs": [],
   "source": [
    "showImage([img3,newimage])"
   ]
  },
  {
   "cell_type": "code",
   "execution_count": 145,
   "metadata": {},
   "outputs": [
    {
     "data": {
      "text/plain": [
       "array([[221, 221, 221, ..., 210, 213, 213],\n",
       "       [221, 221, 221, ..., 210, 214, 214],\n",
       "       [221, 221, 221, ..., 211, 211, 211],\n",
       "       ...,\n",
       "       [187, 187, 186, ..., 174, 173, 173],\n",
       "       [187, 186, 188, ..., 174, 174, 172],\n",
       "       [187, 185, 187, ..., 173, 174, 172]], dtype=uint8)"
      ]
     },
     "execution_count": 145,
     "metadata": {},
     "output_type": "execute_result"
    }
   ],
   "source": [
    "img3"
   ]
  },
  {
   "cell_type": "code",
   "execution_count": 147,
   "metadata": {},
   "outputs": [
    {
     "data": {
      "text/plain": [
       "array([[221, 221, 221, ..., 210, 213, 213],\n",
       "       [221, 221, 221, ..., 211, 212, 214],\n",
       "       [221, 221, 221, ..., 211, 211, 211],\n",
       "       ...,\n",
       "       [187, 186, 185, ..., 173, 173, 173],\n",
       "       [187, 186, 186, ..., 173, 173, 172],\n",
       "       [187, 185, 187, ..., 173, 174, 172]], dtype=uint8)"
      ]
     },
     "execution_count": 147,
     "metadata": {},
     "output_type": "execute_result"
    }
   ],
   "source": [
    "newimage"
   ]
  },
  {
   "cell_type": "code",
   "execution_count": 110,
   "metadata": {},
   "outputs": [
    {
     "data": {
      "text/plain": [
       "numpy.uint8"
      ]
     },
     "execution_count": 110,
     "metadata": {},
     "output_type": "execute_result"
    }
   ],
   "source": [
    "img3.astype(int)\n",
    "type(img3[1,1])"
   ]
  }
 ],
 "metadata": {
  "kernelspec": {
   "display_name": "Python 3",
   "language": "python",
   "name": "python3"
  },
  "language_info": {
   "codemirror_mode": {
    "name": "ipython",
    "version": 3
   },
   "file_extension": ".py",
   "mimetype": "text/x-python",
   "name": "python",
   "nbconvert_exporter": "python",
   "pygments_lexer": "ipython3",
   "version": "3.7.1"
  }
 },
 "nbformat": 4,
 "nbformat_minor": 2
}
