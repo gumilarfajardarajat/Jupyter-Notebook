{
 "cells": [
  {
   "cell_type": "code",
   "execution_count": 9,
   "metadata": {},
   "outputs": [],
   "source": [
    "import numpy as np\n",
    "import cv2\n",
    "from matplotlib import pyplot as plt\n",
    "from collections import Counter "
   ]
  },
  {
   "cell_type": "code",
   "execution_count": 10,
   "metadata": {},
   "outputs": [],
   "source": [
    "def segrange(image):\n",
    "    hsv = cv2.cvtColor(image, cv2.COLOR_BGR2HSV)\n",
    "    h,s,v = cv2.split(hsv)\n",
    "    \n",
    "    maxh = max(h.ravel())\n",
    "    minh = min(h.ravel())\n",
    "    maxs = max(s.ravel())\n",
    "    mins = min(s.ravel())\n",
    "    maxv = max(v.ravel())\n",
    "    minv = min(v.ravel())    \n",
    "    \n",
    "    return maxh,minh,maxs,mins,maxv,minv  \n",
    "\n",
    "def pushimg(tempmaxh,tempminh,tempmaxs,tempmins,tempmaxv,tempminv):\n",
    "    maxh.append(tempmaxh)\n",
    "    minh.append(tempminh)\n",
    "    maxs.append(tempmaxs)\n",
    "    mins.append(tempmins)\n",
    "    maxv.append(tempmaxv)\n",
    "    minv.append(tempminv) \n",
    "\n",
    "def pushglob(limg):\n",
    "    n = len(limg)\n",
    "    for i in range(n):\n",
    "        (tempmaxh,tempminh,tempmaxs,tempmins,tempmaxv,tempminv) = segrange(limg[i])\n",
    "        pushimg(tempmaxh,tempminh,tempmaxs,tempmins,tempmaxv,tempminv)   \n",
    "    \n",
    "        \n",
    "    \n",
    "def showImage(image):\n",
    "    n = len(image)\n",
    "    for i in range(n):\n",
    "        cv2.imshow('Gambar'+str(i),image[i])\n",
    "    cv2.waitKey(0)\n",
    "    cv2.destroyAllWindows() \n",
    "    "
   ]
  },
  {
   "cell_type": "code",
   "execution_count": 11,
   "metadata": {},
   "outputs": [],
   "source": [
    "maxh = []\n",
    "minh = []\n",
    "maxs = []\n",
    "mins = []\n",
    "maxv = []\n",
    "minv = [] \n",
    "\n",
    "imgpath = \"D:/imageproc/lv2.jpg\"\n",
    "imgpath1 = \"D:/imageproc/crop/lv2.jpg\"\n",
    "imgpath2 = \"D:/imageproc/crop/lv3.jpg\"\n",
    "imgpath3 = \"D:/imageproc/crop/lv4.jpg\"\n",
    "imgpath4 = \"D:/imageproc/crop/out2.jpg\"\n",
    "imgpath5 = \"D:/imageproc/crop/out3.jpg\"\n",
    "img = cv2.imread(imgpath,1)\n",
    "img1 = cv2.imread(imgpath1,1)\n",
    "img2 = cv2.imread(imgpath2,1)\n",
    "img3 = cv2.imread(imgpath3,1)\n",
    "img4 = cv2.imread(imgpath4,1)\n",
    "img5 = cv2.imread(imgpath5,1)\n",
    "limg = [img1,img2,img3,img4,img5]\n"
   ]
  },
  {
   "cell_type": "code",
   "execution_count": 4,
   "metadata": {},
   "outputs": [],
   "source": [
    "imgrez = cv2.resize(img,None,fx=0.2,fy=0.2)\n",
    "showImage(limg)"
   ]
  },
  {
   "cell_type": "code",
   "execution_count": 13,
   "metadata": {},
   "outputs": [],
   "source": [
    "pushglob(limg)"
   ]
  },
  {
   "cell_type": "code",
   "execution_count": 14,
   "metadata": {},
   "outputs": [],
   "source": [
    "gmaxh = max(maxh) \n",
    "gminh = min(minh) \n",
    "gmaxs = max(maxs) \n",
    "gmins = min(mins) \n",
    "gmaxv = max(maxv) \n",
    "gminv = min(minv)  "
   ]
  },
  {
   "cell_type": "code",
   "execution_count": 15,
   "metadata": {},
   "outputs": [
    {
     "name": "stdout",
     "output_type": "stream",
     "text": [
      "[53, 77, 56, 45, 57]\n",
      "[41, 47, 44, 39, 47]\n",
      "[255, 255, 255, 161, 158]\n",
      "[84, 48, 65, 94, 43]\n",
      "[154, 116, 118, 244, 230]\n",
      "[47, 25, 31, 182, 146]\n"
     ]
    }
   ],
   "source": [
    "print(maxh)\n",
    "print(minh)\n",
    "print(maxs)\n",
    "print(mins)\n",
    "print(maxv)\n",
    "print(minv) "
   ]
  },
  {
   "cell_type": "code",
   "execution_count": 17,
   "metadata": {},
   "outputs": [
    {
     "name": "stdout",
     "output_type": "stream",
     "text": [
      "maxh =  77\n",
      "minh =  39\n",
      "maxs =  255\n",
      "mins =  43\n",
      "maxv =  244\n",
      "minv =  25\n"
     ]
    }
   ],
   "source": [
    "print('maxh = ',gmaxh)\n",
    "print('minh = ',gminh)\n",
    "print('maxs = ',gmaxs)\n",
    "print('mins = ',gmins)\n",
    "print('maxv = ',gmaxv)\n",
    "print('minv = ',gminv)"
   ]
  },
  {
   "cell_type": "code",
   "execution_count": 45,
   "metadata": {},
   "outputs": [],
   "source": [
    "(tempmaxh,tempminh,tempmaxs,tempmins,tempmaxv,tempminv) = segrange(img1)\n",
    "pushimg(tempmaxh,tempminh,tempmaxs,tempmins,tempmaxv,tempminv)\n",
    "(tempmaxh,tempminh,tempmaxs,tempmins,tempmaxv,tempminv) = segrange(img2)\n",
    "pushimg(tempmaxh,tempminh,tempmaxs,tempmins,tempmaxv,tempminv)\n",
    "(tempmaxh,tempminh,tempmaxs,tempmins,tempmaxv,tempminv) = segrange(img3)\n",
    "pushimg(tempmaxh,tempminh,tempmaxs,tempmins,tempmaxv,tempminv)\n",
    "(tempmaxh,tempminh,tempmaxs,tempmins,tempmaxv,tempminv) = segrange(img4)\n",
    "pushimg(tempmaxh,tempminh,tempmaxs,tempmins,tempmaxv,tempminv)"
   ]
  },
  {
   "cell_type": "code",
   "execution_count": 46,
   "metadata": {},
   "outputs": [
    {
     "data": {
      "text/plain": [
       "[53, 77, 56, 45]"
      ]
     },
     "execution_count": 46,
     "metadata": {},
     "output_type": "execute_result"
    }
   ],
   "source": []
  },
  {
   "cell_type": "code",
   "execution_count": 11,
   "metadata": {},
   "outputs": [
    {
     "data": {
      "text/plain": [
       "(133, 42, 255, 5, 234, 15)"
      ]
     },
     "execution_count": 11,
     "metadata": {},
     "output_type": "execute_result"
    }
   ],
   "source": [
    "aImage"
   ]
  },
  {
   "cell_type": "code",
   "execution_count": 19,
   "metadata": {},
   "outputs": [],
   "source": [
    "maxh = []\n",
    "minh = []\n",
    "maxs = []\n",
    "mins = []\n",
    "maxv = []\n",
    "minv = [] "
   ]
  },
  {
   "cell_type": "code",
   "execution_count": 30,
   "metadata": {},
   "outputs": [],
   "source": [
    "(tempmaxh,tempminh,tempmaxs,tempmins,tempmaxv,tempminv) = segrange(img)\n",
    "pushimg(tempmaxh,tempminh,tempmaxs,tempmins,tempmaxv,tempminv)"
   ]
  },
  {
   "cell_type": "code",
   "execution_count": 25,
   "metadata": {},
   "outputs": [],
   "source": [
    "def showImage(data):\n",
    "    if(type(data) is list):\n",
    "        for i in range(len(data)):\n",
    "            if(type(img).__module__ == \"numpy\"):\n",
    "                cv2.imshow('Gambar'+str(i),data[i])\n",
    "            else:\n",
    "                print(\"data ke\",i,\"bukan gambar\")\n",
    "    elif((type(data).__module__) == \"numpy\"):\n",
    "        cv2.imshow('Gambar',data)\n",
    "    else:\n",
    "        print('File Error')\n",
    "    \n",
    "    cv2.waitKey(0)\n",
    "    cv2.destroyAllWindows() "
   ]
  },
  {
   "cell_type": "code",
   "execution_count": 47,
   "metadata": {},
   "outputs": [],
   "source": [
    "def checkNumpy(data):\n",
    "    if(type(img).__module__ == \"numpy\"):\n",
    "        return True"
   ]
  },
  {
   "cell_type": "code",
   "execution_count": 23,
   "metadata": {},
   "outputs": [
    {
     "ename": "NameError",
     "evalue": "name 'checkNumpy' is not defined",
     "output_type": "error",
     "traceback": [
      "\u001b[1;31m---------------------------------------------------------------------------\u001b[0m",
      "\u001b[1;31mNameError\u001b[0m                                 Traceback (most recent call last)",
      "\u001b[1;32m<ipython-input-23-ebd29fcf00ab>\u001b[0m in \u001b[0;36m<module>\u001b[1;34m\u001b[0m\n\u001b[1;32m----> 1\u001b[1;33m \u001b[0mprint\u001b[0m\u001b[1;33m(\u001b[0m\u001b[0mcheckNumpy\u001b[0m\u001b[1;33m(\u001b[0m\u001b[0mimg\u001b[0m\u001b[1;33m)\u001b[0m\u001b[1;33m)\u001b[0m\u001b[1;33m\u001b[0m\u001b[1;33m\u001b[0m\u001b[0m\n\u001b[0m",
      "\u001b[1;31mNameError\u001b[0m: name 'checkNumpy' is not defined"
     ]
    }
   ],
   "source": [
    "print(checkNumpy(img))"
   ]
  },
  {
   "cell_type": "code",
   "execution_count": 70,
   "metadata": {},
   "outputs": [
    {
     "name": "stdout",
     "output_type": "stream",
     "text": [
      "numpy\n"
     ]
    },
    {
     "data": {
      "text/plain": [
       "list"
      ]
     },
     "execution_count": 70,
     "metadata": {},
     "output_type": "execute_result"
    }
   ],
   "source": [
    "print(type(img).__module__)\n",
    "type(limg)"
   ]
  },
  {
   "cell_type": "code",
   "execution_count": 27,
   "metadata": {},
   "outputs": [],
   "source": [
    "checkTypeData(limg)"
   ]
  },
  {
   "cell_type": "code",
   "execution_count": 84,
   "metadata": {},
   "outputs": [
    {
     "name": "stdout",
     "output_type": "stream",
     "text": [
      "numpy\n"
     ]
    }
   ],
   "source": [
    "print(type(img).__module__)"
   ]
  }
 ],
 "metadata": {
  "kernelspec": {
   "display_name": "Python 3",
   "language": "python",
   "name": "python3"
  },
  "language_info": {
   "codemirror_mode": {
    "name": "ipython",
    "version": 3
   },
   "file_extension": ".py",
   "mimetype": "text/x-python",
   "name": "python",
   "nbconvert_exporter": "python",
   "pygments_lexer": "ipython3",
   "version": "3.7.1"
  }
 },
 "nbformat": 4,
 "nbformat_minor": 2
}
