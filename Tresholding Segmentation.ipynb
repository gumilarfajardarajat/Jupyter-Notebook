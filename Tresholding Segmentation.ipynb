{
 "cells": [
  {
   "cell_type": "code",
   "execution_count": 1,
   "metadata": {},
   "outputs": [],
   "source": [
    "import cv2\n",
    "import numpy as np\n",
    "from collections import Counter\n",
    "import matplotlib.pyplot as plt\n",
    "import pandas as pd\n",
    "\n",
    "def openImage(data):\n",
    "    if(type(data) is list):\n",
    "        for i in range(len(data)):\n",
    "            img = cv2.imread(data[i])\n",
    "            if(type(img).__module__ == \"numpy\"):\n",
    "                name = data[i].rfind('/') + 1\n",
    "                cv2.imshow(data[i][name:],img)\n",
    "            else:\n",
    "                print(\"data ke\",i,\"bukan gambar\")\n",
    "    elif((type(cv2.imread(data)).__module__) == \"numpy\"):\n",
    "        img = cv2.imread(data)\n",
    "        name = data.rfind('/') + 1\n",
    "        cv2.imshow(data[name:],img)\n",
    "    else:\n",
    "        print('File Error')\n",
    "    \n",
    "    cv2.waitKey(0)\n",
    "    cv2.destroyAllWindows() \n",
    "    \n",
    "def showImage(data):\n",
    "    if(type(data) is list):\n",
    "        for i in range(len(data)):\n",
    "            if(type(img).__module__ == \"numpy\"):\n",
    "                cv2.imshow('Gambar'+str(i),data[i])\n",
    "            else:\n",
    "                print(\"data ke\",i,\"bukan gambar\")\n",
    "    elif((type(data).__module__) == \"numpy\"):\n",
    "        cv2.imshow('Gambar',data)\n",
    "    else:\n",
    "        print('File Error')\n",
    "    \n",
    "    cv2.waitKey(0)\n",
    "    cv2.destroyAllWindows() \n",
    "\n",
    "def slashImg(img,pattern):\n",
    "    (M, N, C) = img.shape\n",
    "    newImage = np.zeros([M,N,C])\n",
    "    for m in range(M):\n",
    "        for n in range(N):\n",
    "            target = pattern[m,n]\n",
    "            if(target == 255):\n",
    "                newImage[m,n,0] = img[m,n,0]\n",
    "                newImage[m,n,1] = img[m,n,1]\n",
    "                newImage[m,n,2] = img[m,n,2]\n",
    "            else:\n",
    "                newImage[m,n,0] = 0\n",
    "                newImage[m,n,1] = 0\n",
    "                newImage[m,n,2] = 0\n",
    "    return newImage.astype('uint8')\n",
    "\n",
    "def brightness(img,val):\n",
    "    M,N = img.shape\n",
    "    result = np.zeros([M,N])\n",
    "    for i in range(M):\n",
    "        for j in range(N):\n",
    "            result[i,j] = img[i,j] + val\n",
    "            if(result[i,j]>255):\n",
    "                result[i,j] = 255\n",
    "            if(result[i,j]<0):\n",
    "                result[i,j] = 0       \n",
    "    result = result.astype('uint8')\n",
    "    return result \n",
    "\n",
    "def contrast(img,val):\n",
    "    M,N = img.shape\n",
    "    result = np.zeros([M,N])\n",
    "    for i in range(M):\n",
    "        for j in range(N):\n",
    "            result[i,j] = img[i,j] * val\n",
    "            if(result[i,j]>255):\n",
    "                result[i,j] = 255\n",
    "            if(result[i,j]<0):\n",
    "                result[i,j] = 0       \n",
    "    result = result.astype('uint8')\n",
    "    return result    \n",
    "\n",
    "def perataan(image):\n",
    "    newimage = np.copy(image)\n",
    "    B,K = image.shape\n",
    "    for i in range(1,B-1):\n",
    "        for j in range(1,K-1):\n",
    "            npixel = int(newimage[i-1,j-1]) + int(newimage[i-1,j]) + int(newimage[i-1,j+1]) + int(newimage[i,j-1]) + int(newimage[i,j]) + int(newimage[i,j+1]) + int(newimage[i+1,j-1]) + int(newimage[i+1,j]) + int(newimage[i+1,j+1]) \n",
    "            newimage[i,j] = 1/9*npixel\n",
    "    return newimage"
   ]
  },
  {
   "cell_type": "code",
   "execution_count": 2,
   "metadata": {},
   "outputs": [],
   "source": [
    "# imgpath = \"D:\\imageproc\\lv2.jpg\"\n",
    "imgpath = \"D:\\imageproc\\Level 2\\lv2-4.jpg\"\n",
    "# imgpath = \"D:\\imageproc\\Level 4\\lv4-2.jpg\"\n",
    "# imgpath = \"D:\\imageproc\\Level 3\\lv3-8.jpg\"\n",
    "# kernel = np.ones((5,5),np.uint8)\n",
    "cimg = cv2.imread(imgpath,1)\n",
    "cimg = cv2.resize(cimg,None,fx=0.5,fy=0.5)\n",
    "img = cv2.imread(imgpath,0)\n",
    "img = cv2.resize(img,None,fx=0.5,fy=0.5)\n",
    "hsv = cv2.cvtColor(cimg, cv2.COLOR_BGR2HSV)\n",
    "h,s,v = cv2.split(hsv)\n",
    "ret,pat = cv2.threshold(s,60,255,cv2.THRESH_BINARY)\n",
    "\n",
    "# showImage(img)\n",
    "# gray = cv2.cvtColor(255-slashed, cv2.COLOR_BGR2GRAY)\n",
    "# showImage(gray)"
   ]
  },
  {
   "cell_type": "code",
   "execution_count": null,
   "metadata": {},
   "outputs": [],
   "source": []
  },
  {
   "cell_type": "code",
   "execution_count": 287,
   "metadata": {},
   "outputs": [],
   "source": [
    "\n",
    "\n",
    "# mor = cv2.morphologyEx(pat, cv2.MORPH_OPEN, kernel)\n",
    "\n",
    "# showImage([slashed,pat,cimg,img])"
   ]
  },
  {
   "cell_type": "code",
   "execution_count": 302,
   "metadata": {},
   "outputs": [
    {
     "data": {
      "image/png": "[encoded data removed]",
      "text/plain": [
       "<Figure size 432x288 with 1 Axes>"
      ]
     },
     "metadata": {
      "needs_background": "light"
     },
     "output_type": "display_data"
    }
   ],
   "source": [
    "# imgpath = \"D:\\imageproc\\lv2.jpg\"\n",
    "# imgpath = \"D:\\imageproc\\Level 2\\lv2-4.jpg\"\n",
    "imgpath = \"D:\\imageproc\\Level 3\\lv3-4.jpg\"\n",
    "# kernel = np.ones((5,5),np.uint8)\n",
    "cimg = cv2.imread(imgpath,1)\n",
    "cimg = cv2.resize(cimg,None,fx=0.5,fy=0.5)\n",
    "img = cv2.imread(imgpath,0)\n",
    "img = cv2.resize(img,None,fx=0.5,fy=0.5)\n",
    "plt.hist(img.ravel(),256,[0,256])\n",
    "plt.show()\n",
    "showImage(cimg)"
   ]
  },
  {
   "cell_type": "code",
   "execution_count": null,
   "metadata": {},
   "outputs": [],
   "source": [
    "# imgpath = \"D:\\imageproc\\lv2.jpg\"\n",
    "imgpath = \"D:\\imageproc\\Level 2\\lv2-2.jpg\"\n",
    "# imgpath = \"D:\\imageproc\\Level 4\\lv4-2.jpg\"\n",
    "kernel = np.ones((5,5),np.uint8)\n",
    "cimg = cv2.imread(imgpath,1)\n",
    "cimg = cv2.resize(cimg,None,fx=0.5,fy=0.5)\n",
    "img = cv2.imread(imgpath,0)\n",
    "img = cv2.resize(img,None,fx=0.5,fy=0.5)\n",
    "ret,pat = cv2.threshold(img,81,255,cv2.THRESH_BINARY)\n",
    "\n",
    "mor = cv2.morphologyEx(pat, cv2.MORPH_OPEN, kernel)\n",
    "# mor = cv2.dilate(pat,kernel,iterations = 1)\n",
    "slashed = slashImg(cimg,mor)\n",
    "showImage([slashed,pat,cimg,img])\n",
    "\n"
   ]
  },
  {
   "cell_type": "code",
   "execution_count": null,
   "metadata": {},
   "outputs": [],
   "source": [
    "pat"
   ]
  },
  {
   "cell_type": "code",
   "execution_count": null,
   "metadata": {},
   "outputs": [],
   "source": [
    "# imgpath = \"D:\\imageproc\\lv3.jpg\"\n",
    "# img = cv2.imread(imgpath,0)\n",
    "# img = cv2.resize(img,None,fx=0.3,fy=0.3)\n",
    "# # showImage(img[0:50][:,110:120])\n",
    "# min(img[0:50][:,110:120].ravel())\n"
   ]
  },
  {
   "cell_type": "code",
   "execution_count": 8,
   "metadata": {},
   "outputs": [],
   "source": [
    "imgpath = \"D:\\imageproc\\lv3.jpg\"\n",
    "img = cv2.imread(imgpath,0)\n",
    "img = cv2.resize(img,None,fx=0.3,fy=0.3)\n",
    "M,N = img.shape\n",
    "result = np.zeros([M,N])\n",
    "for i in range(M):\n",
    "    for j in range(N):\n",
    "        result[i,j] = img[i,j] + 100\n",
    "        if(result[i,j]>255):\n",
    "            result[i,j] = 255\n",
    "        if(result[i,j]<0):\n",
    "            result[i,j] = 0       \n",
    "result = result.astype('uint8')\n",
    "showImage(result)"
   ]
  },
  {
   "cell_type": "code",
   "execution_count": 85,
   "metadata": {},
   "outputs": [
    {
     "data": {
      "image/png": "[encoded data removed]",
      "text/plain": [
       "<Figure size 432x288 with 1 Axes>"
      ]
     },
     "metadata": {
      "needs_background": "light"
     },
     "output_type": "display_data"
    },
    {
     "data": {
      "text/plain": [
       "Counter({215: 2418,\n",
       "         216: 2698,\n",
       "         217: 2450,\n",
       "         218: 2669,\n",
       "         219: 2328,\n",
       "         220: 1448,\n",
       "         221: 1676,\n",
       "         222: 1518,\n",
       "         223: 1125,\n",
       "         224: 879,\n",
       "         225: 592,\n",
       "         226: 797,\n",
       "         227: 804,\n",
       "         229: 936,\n",
       "         228: 853,\n",
       "         230: 806,\n",
       "         231: 938,\n",
       "         233: 862,\n",
       "         234: 985,\n",
       "         235: 684,\n",
       "         236: 876,\n",
       "         237: 1149,\n",
       "         238: 1473,\n",
       "         232: 1137,\n",
       "         214: 3207,\n",
       "         208: 5841,\n",
       "         204: 4670,\n",
       "         203: 4346,\n",
       "         198: 3962,\n",
       "         193: 5777,\n",
       "         151: 150,\n",
       "         127: 111,\n",
       "         124: 190,\n",
       "         110: 539,\n",
       "         114: 358,\n",
       "         109: 649,\n",
       "         105: 940,\n",
       "         101: 1429,\n",
       "         102: 1248,\n",
       "         100: 1582,\n",
       "         96: 1841,\n",
       "         91: 1300,\n",
       "         95: 1789,\n",
       "         97: 1859,\n",
       "         104: 1002,\n",
       "         98: 1950,\n",
       "         94: 1691,\n",
       "         93: 1453,\n",
       "         118: 216,\n",
       "         88: 1336,\n",
       "         89: 1343,\n",
       "         99: 1737,\n",
       "         107: 747,\n",
       "         106: 875,\n",
       "         103: 1103,\n",
       "         108: 677,\n",
       "         112: 439,\n",
       "         145: 101,\n",
       "         241: 1614,\n",
       "         244: 2677,\n",
       "         246: 2763,\n",
       "         248: 3441,\n",
       "         249: 5429,\n",
       "         250: 1600,\n",
       "         251: 6506,\n",
       "         252: 8364,\n",
       "         253: 8761,\n",
       "         254: 12752,\n",
       "         255: 81416,\n",
       "         210: 3720,\n",
       "         202: 4428,\n",
       "         196: 3556,\n",
       "         195: 2777,\n",
       "         152: 157,\n",
       "         129: 118,\n",
       "         126: 122,\n",
       "         92: 1491,\n",
       "         117: 224,\n",
       "         86: 1012,\n",
       "         111: 478,\n",
       "         141: 113,\n",
       "         245: 1258,\n",
       "         247: 2836,\n",
       "         209: 5724,\n",
       "         197: 3638,\n",
       "         192: 6712,\n",
       "         150: 149,\n",
       "         116: 287,\n",
       "         87: 1149,\n",
       "         90: 1381,\n",
       "         243: 2468,\n",
       "         212: 3714,\n",
       "         206: 5702,\n",
       "         201: 4530,\n",
       "         194: 5157,\n",
       "         128: 170,\n",
       "         125: 143,\n",
       "         115: 252,\n",
       "         144: 115,\n",
       "         242: 1998,\n",
       "         191: 7312,\n",
       "         131: 102,\n",
       "         121: 219,\n",
       "         137: 106,\n",
       "         122: 184,\n",
       "         85: 950,\n",
       "         134: 117,\n",
       "         239: 1705,\n",
       "         200: 3625,\n",
       "         155: 141,\n",
       "         130: 133,\n",
       "         123: 210,\n",
       "         156: 154,\n",
       "         135: 103,\n",
       "         199: 4379,\n",
       "         113: 367,\n",
       "         133: 128,\n",
       "         158: 182,\n",
       "         132: 126,\n",
       "         211: 4031,\n",
       "         190: 5984,\n",
       "         84: 883,\n",
       "         120: 220,\n",
       "         205: 4227,\n",
       "         157: 139,\n",
       "         240: 982,\n",
       "         213: 3328,\n",
       "         207: 5876,\n",
       "         163: 207,\n",
       "         161: 225,\n",
       "         168: 331,\n",
       "         184: 3853,\n",
       "         166: 270,\n",
       "         179: 2908,\n",
       "         169: 397,\n",
       "         174: 2087,\n",
       "         83: 781,\n",
       "         167: 285,\n",
       "         170: 554,\n",
       "         164: 230,\n",
       "         173: 1714,\n",
       "         176: 2525,\n",
       "         119: 192,\n",
       "         148: 134,\n",
       "         172: 1414,\n",
       "         146: 109,\n",
       "         181: 2910,\n",
       "         142: 108,\n",
       "         136: 112,\n",
       "         185: 2930,\n",
       "         188: 6122,\n",
       "         187: 4177,\n",
       "         139: 118,\n",
       "         189: 9328,\n",
       "         140: 97,\n",
       "         186: 4104,\n",
       "         138: 137,\n",
       "         82: 770,\n",
       "         143: 151,\n",
       "         147: 149,\n",
       "         178: 2815,\n",
       "         171: 898,\n",
       "         149: 128,\n",
       "         159: 157,\n",
       "         160: 144,\n",
       "         175: 2253,\n",
       "         177: 2746,\n",
       "         183: 3207,\n",
       "         182: 2688,\n",
       "         81: 685,\n",
       "         153: 154,\n",
       "         77: 547,\n",
       "         80: 665,\n",
       "         180: 2396,\n",
       "         79: 641,\n",
       "         78: 617,\n",
       "         162: 204,\n",
       "         165: 257,\n",
       "         154: 129,\n",
       "         75: 440,\n",
       "         76: 543,\n",
       "         74: 357,\n",
       "         72: 240,\n",
       "         73: 315,\n",
       "         70: 160,\n",
       "         69: 136,\n",
       "         68: 105,\n",
       "         65: 46,\n",
       "         66: 56,\n",
       "         64: 36,\n",
       "         62: 7,\n",
       "         63: 13,\n",
       "         59: 2,\n",
       "         60: 2,\n",
       "         61: 2,\n",
       "         67: 72,\n",
       "         71: 186})"
      ]
     },
     "execution_count": 85,
     "metadata": {},
     "output_type": "execute_result"
    }
   ],
   "source": [
    "\n",
    "plt.hist(img.ravel(),256,[0,256]); plt.show()\n",
    "Counter(img.ravel())"
   ]
  },
  {
   "cell_type": "code",
   "execution_count": null,
   "metadata": {},
   "outputs": [],
   "source": [
    "\n",
    "result"
   ]
  },
  {
   "cell_type": "code",
   "execution_count": null,
   "metadata": {},
   "outputs": [],
   "source": [
    "np.zeros([5,5],dtype=np.int8)"
   ]
  },
  {
   "cell_type": "code",
   "execution_count": 248,
   "metadata": {},
   "outputs": [
    {
     "data": {
      "text/plain": [
       "array([[215, 216, 216, ..., 252, 252, 252],\n",
       "       [215, 216, 216, ..., 252, 252, 252],\n",
       "       [215, 216, 216, ..., 252, 252, 252],\n",
       "       ...,\n",
       "       [187, 186, 185, ..., 247, 246, 246],\n",
       "       [186, 188, 188, ..., 247, 244, 245],\n",
       "       [185, 187, 187, ..., 247, 244, 245]], dtype=uint8)"
      ]
     },
     "execution_count": 248,
     "metadata": {},
     "output_type": "execute_result"
    }
   ],
   "source": []
  },
  {
   "cell_type": "code",
   "execution_count": 251,
   "metadata": {},
   "outputs": [
    {
     "data": {
      "text/plain": [
       "Counter({9: 6, 0: 3, 2: 3, 3: 2, 7: 5, 4: 1, 1: 1, 6: 3, 8: 1})"
      ]
     },
     "execution_count": 251,
     "metadata": {},
     "output_type": "execute_result"
    }
   ],
   "source": [
    "matriks = np.array([[9,0,2,3,7],[2,4,1,2,6],[7,3,8,7,9],[6,7,6,9,9],[0,0,9,7,9]])\n",
    "cnt = Counter(matriks.ravel())\n",
    "# cnt = list(cnt.items())\n",
    "# cnt.sort()\n",
    "# for i in range(len(cnt)):\n",
    "#     cnt[i] = list(cnt[i])\n",
    "    \n",
    "# for i in range(len(cnt)):\n",
    "#     cnt[i].append(cnt[i][1]/25)\n",
    "cnt"
   ]
  },
  {
   "cell_type": "code",
   "execution_count": 250,
   "metadata": {},
   "outputs": [
    {
     "data": {
      "text/plain": [
       "[[0, 3, 0.12],\n",
       " [1, 1, 0.04],\n",
       " [2, 3, 0.12],\n",
       " [3, 2, 0.08],\n",
       " [4, 1, 0.04],\n",
       " [6, 3, 0.12],\n",
       " [7, 5, 0.2],\n",
       " [8, 1, 0.04],\n",
       " [9, 6, 0.24]]"
      ]
     },
     "execution_count": 250,
     "metadata": {},
     "output_type": "execute_result"
    }
   ],
   "source": [
    "cnt"
   ]
  },
  {
   "cell_type": "code",
   "execution_count": 181,
   "metadata": {},
   "outputs": [
    {
     "data": {
      "text/plain": [
       "[9, 6, 0.24]"
      ]
     },
     "execution_count": 181,
     "metadata": {},
     "output_type": "execute_result"
    }
   ],
   "source": [
    "tcnt = np.transpose(cnt)\n",
    "ni = np.transpose(cnt)[1]\n",
    "nmax = max(ni)\n",
    "indexfind = np.where(mfind == nmax)\n",
    "indexfind = indexfind[0][0]\n",
    "cnt[indexfind]"
   ]
  },
  {
   "cell_type": "code",
   "execution_count": 214,
   "metadata": {},
   "outputs": [],
   "source": [
    "df_cnt = pd.DataFrame(cnt,columns=['i', 'n', 'h(i)'])"
   ]
  },
  {
   "cell_type": "code",
   "execution_count": 237,
   "metadata": {},
   "outputs": [
    {
     "data": {
      "text/plain": [
       "[0.12, 0.04, 0.12, 0.08, 0.04, 0.12, 0.2, 0.04, 0.24]"
      ]
     },
     "execution_count": 237,
     "metadata": {},
     "output_type": "execute_result"
    }
   ],
   "source": [
    "df_cnt['h(i)'].values.tolist()"
   ]
  },
  {
   "cell_type": "code",
   "execution_count": 241,
   "metadata": {},
   "outputs": [
    {
     "data": {
      "text/plain": [
       "[<matplotlib.lines.Line2D at 0x15e52cc8c18>,\n",
       " <matplotlib.lines.Line2D at 0x15e52cc8d68>]"
      ]
     },
     "execution_count": 241,
     "metadata": {},
     "output_type": "execute_result"
    },
    {
     "data": {
      "image/png": "[encoded data removed]",
      "text/plain": [
       "<Figure size 432x288 with 1 Axes>"
      ]
     },
     "metadata": {
      "needs_background": "light"
     },
     "output_type": "display_data"
    }
   ],
   "source": [
    "plt.plot([1,2,3],[10,20,30],30)"
   ]
  },
  {
   "cell_type": "code",
   "execution_count": 245,
   "metadata": {},
   "outputs": [
    {
     "data": {
      "image/png": "[encoded data removed]",
      "text/plain": [
       "<Figure size 432x288 with 1 Axes>"
      ]
     },
     "metadata": {
      "needs_background": "light"
     },
     "output_type": "display_data"
    }
   ],
   "source": [
    "plt.plot([1,2,3],[10,20,30],30)\n",
    "plt.suptitle('Categorical Plotting')\n",
    "plt.show()"
   ]
  },
  {
   "cell_type": "code",
   "execution_count": 122,
   "metadata": {},
   "outputs": [],
   "source": [
    "vmax = max(np.transpose(cnt)[1])"
   ]
  },
  {
   "cell_type": "code",
   "execution_count": 123,
   "metadata": {},
   "outputs": [],
   "source": [
    "mfind = np.transpose(cnt)[1]"
   ]
  },
  {
   "cell_type": "code",
   "execution_count": 128,
   "metadata": {},
   "outputs": [
    {
     "data": {
      "text/plain": [
       "array([[0.  , 1.  , 2.  , 3.  , 4.  , 6.  , 7.  , 8.  , 9.  ],\n",
       "       [3.  , 1.  , 3.  , 2.  , 1.  , 3.  , 5.  , 1.  , 6.  ],\n",
       "       [0.12, 0.04, 0.12, 0.08, 0.04, 0.12, 0.2 , 0.04, 0.24]])"
      ]
     },
     "execution_count": 128,
     "metadata": {},
     "output_type": "execute_result"
    }
   ],
   "source": [
    "tcnt"
   ]
  },
  {
   "cell_type": "code",
   "execution_count": 129,
   "metadata": {},
   "outputs": [],
   "source": [
    "imax = np.where(mfind == vmax)"
   ]
  },
  {
   "cell_type": "code",
   "execution_count": 156,
   "metadata": {},
   "outputs": [
    {
     "data": {
      "text/plain": [
       "8"
      ]
     },
     "execution_count": 156,
     "metadata": {},
     "output_type": "execute_result"
    }
   ],
   "source": [
    "imax[0][0]"
   ]
  },
  {
   "cell_type": "code",
   "execution_count": 271,
   "metadata": {},
   "outputs": [],
   "source": []
  },
  {
   "cell_type": "code",
   "execution_count": 281,
   "metadata": {},
   "outputs": [],
   "source": [
    "for i in range(0,256):\n",
    "    hist[i] = 0\n",
    "matriks = np.array([[9,0,2,3,7],[2,4,1,2,6],[7,3,8,7,9],[6,7,6,9,9],[0,0,9,7,9]])\n",
    "M,N = matriks.shape\n",
    "for i in range(M):\n",
    "    for j in range(N):\n",
    "        hist[matriks[i][j]] = hist[matriks[i][j]] + 1"
   ]
  },
  {
   "cell_type": "code",
   "execution_count": 279,
   "metadata": {},
   "outputs": [
    {
     "data": {
      "text/plain": [
       "array([[3.],\n",
       "       [1.],\n",
       "       [3.],\n",
       "       [2.],\n",
       "       [1.],\n",
       "       [0.],\n",
       "       [3.],\n",
       "       [5.],\n",
       "       [1.],\n",
       "       [6.],\n",
       "       [0.],\n",
       "       [0.],\n",
       "       [0.],\n",
       "       [0.],\n",
       "       [0.],\n",
       "       [0.],\n",
       "       [0.],\n",
       "       [0.],\n",
       "       [0.],\n",
       "       [0.],\n",
       "       [0.],\n",
       "       [0.],\n",
       "       [0.],\n",
       "       [0.],\n",
       "       [0.],\n",
       "       [0.],\n",
       "       [0.],\n",
       "       [0.],\n",
       "       [0.],\n",
       "       [0.],\n",
       "       [0.],\n",
       "       [0.],\n",
       "       [0.],\n",
       "       [0.],\n",
       "       [0.],\n",
       "       [0.],\n",
       "       [0.],\n",
       "       [0.],\n",
       "       [0.],\n",
       "       [0.],\n",
       "       [0.],\n",
       "       [0.],\n",
       "       [0.],\n",
       "       [0.],\n",
       "       [0.],\n",
       "       [0.],\n",
       "       [0.],\n",
       "       [0.],\n",
       "       [0.],\n",
       "       [0.],\n",
       "       [0.],\n",
       "       [0.],\n",
       "       [0.],\n",
       "       [0.],\n",
       "       [0.],\n",
       "       [0.],\n",
       "       [0.],\n",
       "       [0.],\n",
       "       [0.],\n",
       "       [0.],\n",
       "       [0.],\n",
       "       [0.],\n",
       "       [0.],\n",
       "       [0.],\n",
       "       [0.],\n",
       "       [0.],\n",
       "       [0.],\n",
       "       [0.],\n",
       "       [0.],\n",
       "       [0.],\n",
       "       [0.],\n",
       "       [0.],\n",
       "       [0.],\n",
       "       [0.],\n",
       "       [0.],\n",
       "       [0.],\n",
       "       [0.],\n",
       "       [0.],\n",
       "       [0.],\n",
       "       [0.],\n",
       "       [0.],\n",
       "       [0.],\n",
       "       [0.],\n",
       "       [0.],\n",
       "       [0.],\n",
       "       [0.],\n",
       "       [0.],\n",
       "       [0.],\n",
       "       [0.],\n",
       "       [0.],\n",
       "       [0.],\n",
       "       [0.],\n",
       "       [0.],\n",
       "       [0.],\n",
       "       [0.],\n",
       "       [0.],\n",
       "       [0.],\n",
       "       [0.],\n",
       "       [0.],\n",
       "       [0.],\n",
       "       [0.],\n",
       "       [0.],\n",
       "       [0.],\n",
       "       [0.],\n",
       "       [0.],\n",
       "       [0.],\n",
       "       [0.],\n",
       "       [0.],\n",
       "       [0.],\n",
       "       [0.],\n",
       "       [0.],\n",
       "       [0.],\n",
       "       [0.],\n",
       "       [0.],\n",
       "       [0.],\n",
       "       [0.],\n",
       "       [0.],\n",
       "       [0.],\n",
       "       [0.],\n",
       "       [0.],\n",
       "       [0.],\n",
       "       [0.],\n",
       "       [0.],\n",
       "       [0.],\n",
       "       [0.],\n",
       "       [0.],\n",
       "       [0.],\n",
       "       [0.],\n",
       "       [0.],\n",
       "       [0.],\n",
       "       [0.],\n",
       "       [0.],\n",
       "       [0.],\n",
       "       [0.],\n",
       "       [0.],\n",
       "       [0.],\n",
       "       [0.],\n",
       "       [0.],\n",
       "       [0.],\n",
       "       [0.],\n",
       "       [0.],\n",
       "       [0.],\n",
       "       [0.],\n",
       "       [0.],\n",
       "       [0.],\n",
       "       [0.],\n",
       "       [0.],\n",
       "       [0.],\n",
       "       [0.],\n",
       "       [0.],\n",
       "       [0.],\n",
       "       [0.],\n",
       "       [0.],\n",
       "       [0.],\n",
       "       [0.],\n",
       "       [0.],\n",
       "       [0.],\n",
       "       [0.],\n",
       "       [0.],\n",
       "       [0.],\n",
       "       [0.],\n",
       "       [0.],\n",
       "       [0.],\n",
       "       [0.],\n",
       "       [0.],\n",
       "       [0.],\n",
       "       [0.],\n",
       "       [0.],\n",
       "       [0.],\n",
       "       [0.],\n",
       "       [0.],\n",
       "       [0.],\n",
       "       [0.],\n",
       "       [0.],\n",
       "       [0.],\n",
       "       [0.],\n",
       "       [0.],\n",
       "       [0.],\n",
       "       [0.],\n",
       "       [0.],\n",
       "       [0.],\n",
       "       [0.],\n",
       "       [0.],\n",
       "       [0.],\n",
       "       [0.],\n",
       "       [0.],\n",
       "       [0.],\n",
       "       [0.],\n",
       "       [0.],\n",
       "       [0.],\n",
       "       [0.],\n",
       "       [0.],\n",
       "       [0.],\n",
       "       [0.],\n",
       "       [0.],\n",
       "       [0.],\n",
       "       [0.],\n",
       "       [0.],\n",
       "       [0.],\n",
       "       [0.],\n",
       "       [0.],\n",
       "       [0.],\n",
       "       [0.],\n",
       "       [0.],\n",
       "       [0.],\n",
       "       [0.],\n",
       "       [0.],\n",
       "       [0.],\n",
       "       [0.],\n",
       "       [0.],\n",
       "       [0.],\n",
       "       [0.],\n",
       "       [0.],\n",
       "       [0.],\n",
       "       [0.],\n",
       "       [0.],\n",
       "       [0.],\n",
       "       [0.],\n",
       "       [0.],\n",
       "       [0.],\n",
       "       [0.],\n",
       "       [0.],\n",
       "       [0.],\n",
       "       [0.],\n",
       "       [0.],\n",
       "       [0.],\n",
       "       [0.],\n",
       "       [0.],\n",
       "       [0.],\n",
       "       [0.],\n",
       "       [0.],\n",
       "       [0.],\n",
       "       [0.],\n",
       "       [0.],\n",
       "       [0.],\n",
       "       [0.],\n",
       "       [0.],\n",
       "       [0.],\n",
       "       [0.],\n",
       "       [0.],\n",
       "       [0.],\n",
       "       [0.],\n",
       "       [0.],\n",
       "       [0.],\n",
       "       [0.],\n",
       "       [0.],\n",
       "       [0.],\n",
       "       [0.],\n",
       "       [0.],\n",
       "       [0.],\n",
       "       [0.],\n",
       "       [0.],\n",
       "       [0.],\n",
       "       [0.],\n",
       "       [0.],\n",
       "       [0.]], dtype=float32)"
      ]
     },
     "execution_count": 279,
     "metadata": {},
     "output_type": "execute_result"
    }
   ],
   "source": [
    "hist"
   ]
  },
  {
   "cell_type": "code",
   "execution_count": 56,
   "metadata": {},
   "outputs": [],
   "source": [
    "for i in range(len(cnt)):\n",
    "    cnt[i] = list(cnt[i])"
   ]
  },
  {
   "cell_type": "code",
   "execution_count": 105,
   "metadata": {},
   "outputs": [
    {
     "data": {
      "text/plain": [
       "2"
      ]
     },
     "execution_count": 105,
     "metadata": {},
     "output_type": "execute_result"
    }
   ],
   "source": [
    "x = [1,2,3,4,5]\n",
    "x.index(3)"
   ]
  },
  {
   "cell_type": "code",
   "execution_count": 60,
   "metadata": {},
   "outputs": [],
   "source": [
    "cnt.sort()"
   ]
  },
  {
   "cell_type": "code",
   "execution_count": 61,
   "metadata": {},
   "outputs": [
    {
     "data": {
      "text/plain": [
       "[[0, 3], [1, 1], [2, 3], [3, 2], [4, 1], [6, 3], [7, 5], [8, 1], [9, 6]]"
      ]
     },
     "execution_count": 61,
     "metadata": {},
     "output_type": "execute_result"
    }
   ],
   "source": [
    "cnt"
   ]
  },
  {
   "cell_type": "code",
   "execution_count": null,
   "metadata": {},
   "outputs": [],
   "source": []
  }
 ],
 "metadata": {
  "kernelspec": {
   "display_name": "Python 3",
   "language": "python",
   "name": "python3"
  },
  "language_info": {
   "codemirror_mode": {
    "name": "ipython",
    "version": 3
   },
   "file_extension": ".py",
   "mimetype": "text/x-python",
   "name": "python",
   "nbconvert_exporter": "python",
   "pygments_lexer": "ipython3",
   "version": "3.7.1"
  }
 },
 "nbformat": 4,
 "nbformat_minor": 2
}
