{
 "cells": [
  {
   "cell_type": "code",
   "execution_count": 16,
   "metadata": {},
   "outputs": [],
   "source": [
    "import cv2\n",
    "import numpy as np\n",
    "\n",
    "def openImage(data):\n",
    "    if(type(data) is list):\n",
    "        for i in range(len(data)):\n",
    "            img = cv2.imread(data[i])\n",
    "            if(type(img).__module__ == \"numpy\"):\n",
    "                name = data[i].rfind('/') + 1\n",
    "                cv2.imshow(data[i][name:],img)\n",
    "            else:\n",
    "                print(\"data ke\",i,\"bukan gambar\")\n",
    "    elif((type(cv2.imread(data)).__module__) == \"numpy\"):\n",
    "        img = cv2.imread(data)\n",
    "        name = data.rfind('/') + 1\n",
    "        cv2.imshow(data[name:],img)\n",
    "    else:\n",
    "        print('File Error')\n",
    "    \n",
    "    cv2.waitKey(0)\n",
    "    cv2.destroyAllWindows() \n",
    "    \n",
    "def showImage(data):\n",
    "    if(type(data) is list):\n",
    "        for i in range(len(data)):\n",
    "            if(type(img).__module__ == \"numpy\"):\n",
    "                cv2.imshow('Gambar'+str(i),data[i])\n",
    "            else:\n",
    "                print(\"data ke\",i,\"bukan gambar\")\n",
    "    elif((type(data).__module__) == \"numpy\"):\n",
    "        cv2.imshow('Gambar',data)\n",
    "    else:\n",
    "        print('File Error')\n",
    "    \n",
    "    cv2.waitKey(0)\n",
    "    cv2.destroyAllWindows() \n",
    "\n",
    "def slashImg(img,pattern):\n",
    "    (M, N, C) = img.shape\n",
    "    newImage = np.zeros([M,N,C])\n",
    "    for m in range(M):\n",
    "        for n in range(N):\n",
    "            target = pattern[m,n]\n",
    "            if(target == 255):\n",
    "                newImage[m,n,0] = img[m,n,0]\n",
    "                newImage[m,n,1] = img[m,n,1]\n",
    "                newImage[m,n,2] = img[m,n,2]\n",
    "            else:\n",
    "                newImage[m,n,0] = 0\n",
    "                newImage[m,n,1] = 0\n",
    "                newImage[m,n,2] = 0\n",
    "    return newImage.astype('uint8')"
   ]
  },
  {
   "cell_type": "code",
   "execution_count": 21,
   "metadata": {},
   "outputs": [],
   "source": [
    "imgpath = \"D:\\imageproc\\lv2.jpg\"\n",
    "kernel = np.ones((50,50),np.uint8)\n",
    "cimg = cv2.imread(imgpath,1)\n",
    "cimg = cv2.resize(cimg,None,fx=0.5,fy=0.5)\n",
    "img = cv2.imread(imgpath,0)\n",
    "img = cv2.resize(img,None,fx=0.5,fy=0.5)\n",
    "edges = cv2.Canny(img,100,200)\n",
    "showImage(slashImg(cimg,edges))\n"
   ]
  },
  {
   "cell_type": "code",
   "execution_count": 6,
   "metadata": {},
   "outputs": [
    {
     "data": {
      "text/plain": [
       "array([[0, 0, 0, ..., 0, 0, 0],\n",
       "       [0, 0, 0, ..., 0, 0, 0],\n",
       "       [0, 0, 0, ..., 0, 0, 0],\n",
       "       ...,\n",
       "       [0, 0, 0, ..., 0, 0, 0],\n",
       "       [0, 0, 0, ..., 0, 0, 0],\n",
       "       [0, 0, 0, ..., 0, 0, 0]], dtype=uint8)"
      ]
     },
     "execution_count": 6,
     "metadata": {},
     "output_type": "execute_result"
    }
   ],
   "source": [
    "edges"
   ]
  },
  {
   "cell_type": "code",
   "execution_count": null,
   "metadata": {},
   "outputs": [],
   "source": [
    "imgpath = \"D:\\imageproc\\lv3.jpg\"\n",
    "img = cv2.imread(imgpath,0)\n",
    "img = cv2.resize(img,None,fx=0.3,fy=0.3)\n",
    "# showImage(img[0:50][:,110:120])\n",
    "min(img[0:50][:,110:120].ravel())\n"
   ]
  },
  {
   "cell_type": "code",
   "execution_count": null,
   "metadata": {},
   "outputs": [],
   "source": [
    "N,M = ga.shape\n",
    "for i in range(N):\n",
    "    for j in range(M):\n",
    "        result[i,j] = ga[i,j] and cp[i,j]\n",
    "showImage(result)"
   ]
  },
  {
   "cell_type": "code",
   "execution_count": null,
   "metadata": {},
   "outputs": [],
   "source": []
  },
  {
   "cell_type": "code",
   "execution_count": null,
   "metadata": {},
   "outputs": [],
   "source": []
  },
  {
   "cell_type": "code",
   "execution_count": null,
   "metadata": {},
   "outputs": [],
   "source": [
    "N,M = img.shape\n",
    "for i in range(N):\n",
    "    for j in range(M):\n",
    "        baru[i,j] = img[i,j] - 100\n"
   ]
  },
  {
   "cell_type": "code",
   "execution_count": null,
   "metadata": {},
   "outputs": [],
   "source": [
    "limg = [img,baru]\n",
    "showImage(limg)"
   ]
  },
  {
   "cell_type": "code",
   "execution_count": null,
   "metadata": {},
   "outputs": [],
   "source": [
    "eimg[1,1] = 0"
   ]
  },
  {
   "cell_type": "code",
   "execution_count": null,
   "metadata": {},
   "outputs": [],
   "source": [
    "img"
   ]
  },
  {
   "cell_type": "code",
   "execution_count": null,
   "metadata": {},
   "outputs": [],
   "source": []
  }
 ],
 "metadata": {
  "kernelspec": {
   "display_name": "Python 3",
   "language": "python",
   "name": "python3"
  },
  "language_info": {
   "codemirror_mode": {
    "name": "ipython",
    "version": 3
   },
   "file_extension": ".py",
   "mimetype": "text/x-python",
   "name": "python",
   "nbconvert_exporter": "python",
   "pygments_lexer": "ipython3",
   "version": "3.7.1"
  }
 },
 "nbformat": 4,
 "nbformat_minor": 2
}
