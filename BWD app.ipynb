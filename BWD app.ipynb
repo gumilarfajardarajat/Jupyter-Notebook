{
 "cells": [
  {
   "cell_type": "code",
   "execution_count": 44,
   "metadata": {},
   "outputs": [],
   "source": [
    "import cv2\n",
    "import numpy as np\n",
    "from matplotlib import pyplot as plt\n",
    "from scipy import stats\n",
    "from collections import Counter \n",
    "\n",
    "def showImage(data):\n",
    "    if(type(data) is list):\n",
    "        for i in range(len(data)):\n",
    "            cv2.imshow('Gambar'+str(i+1),data[i])\n",
    "    elif((type(data).__module__) == \"numpy\"):\n",
    "        cv2.imshow('Gambar',data)\n",
    "    else:\n",
    "        print('File Error')\n",
    "    \n",
    "    cv2.waitKey(0)\n",
    "    cv2.destroyAllWindows() \n",
    "\n",
    "def gsAverage(img):\n",
    "    (M, N, C) = img.shape\n",
    "    grayImage = np.zeros([M,N])\n",
    "    for m in range(M):\n",
    "        for n in range(N):\n",
    "            B = int(img[m,n,0]) \n",
    "            G = int(img[m,n,1])\n",
    "            R = int(img[m,n,2])           \n",
    "            grayImage[m,n] = round((R+G+B)/3,0)\n",
    "    return grayImage.astype('uint8')\n",
    "\n",
    "\n",
    "def bi(img):\n",
    "    img = gsAverage(img)\n",
    "    (M, N) = img.shape\n",
    "    newImage = np.zeros([M,N])\n",
    "    T = 127\n",
    "    for m in range(M):\n",
    "        for n in range(N):\n",
    "            if(img[m,n] <= T):\n",
    "                newImage[m,n] = 0\n",
    "            else:\n",
    "                newImage[m,n] = 255\n",
    "    return newImage.astype('uint8')\n",
    "\n",
    "\n",
    "def colorHistogram(img):\n",
    "    b, g, r = cv2.split(img)\n",
    "    # cv2.imshow(\"b\", b)\n",
    "    # cv2.imshow(\"g\", g)\n",
    "    # cv2.imshow(\"r\", r)\n",
    "    plt.hist(b.ravel(), 256, [0, 256])\n",
    "    plt.hist(g.ravel(), 256, [0, 256])\n",
    "    plt.hist(r.ravel(), 256, [0, 256])\n",
    "    plt.show()\n",
    "\n",
    "def getModus(image):\n",
    "    imgdic = Counter(image.ravel())\n",
    "    imgarr = sorted(imgdic.items())\n",
    "    nilai = 0\n",
    "    for i in range(len(imgarr)):\n",
    "        key,value = imgarr[i]\n",
    "        if(i==0):\n",
    "            modus = key\n",
    "        else:\n",
    "            if(value > imgdic.get(modus)):\n",
    "                modus = key\n",
    "    return modus\n",
    "\n",
    "# def rgb_to_hsv(img):\n",
    "#     (M, N, C) = img.shape\n",
    "#     newImage = np.zeros([M,N,C])\n",
    "#     for m in range(M):\n",
    "#         for n in range(N):\n",
    "#             B = float(img[m,n,0]) \n",
    "#             G = float(img[m,n,1])\n",
    "#             R = float(img[m,n,2])\n",
    "            \n",
    "#             b = B/(R+G+B)\n",
    "#             g = G/(R+G+B)\n",
    "#             r = R/(R+G+B)\n",
    "            \n",
    "#             V = max(r,g,b)\n",
    "            \n",
    "#             if(V==0):\n",
    "#                 S = 0\n",
    "#             else:\n",
    "#                 S = 1 - (min(r,g,b)/V)\n",
    "                \n",
    "#             if(S==0):\n",
    "#                 H = 0\n",
    "#             elif(V==r):\n",
    "#                 H = (60*(g-b))/(S*V)\n",
    "#             elif(V==g):\n",
    "#                 H = 60*(2+(b-r)/(S*V))\n",
    "#             elif(V==b):\n",
    "#                 H = 60*(4+(r-g)/(S*V))\n",
    "            \n",
    "#             if(H < 0):\n",
    "#                 H = H + 360\n",
    "                \n",
    "#             newImage[m,n,0] = H \n",
    "#             newImage[m,n,1] = S\n",
    "#             newImage[m,n,2] = V\n",
    "#     return newImage\n",
    "\n",
    "\n",
    "def rgb_to_hsv(img):  \n",
    "    (M, N, C) = img.shape\n",
    "    newImage = np.zeros([M,N,C])\n",
    "    for m in range(M):\n",
    "        for n in range(N):\n",
    "            B = float(img[m,n,0]) \n",
    "            G = float(img[m,n,1])\n",
    "            R = float(img[m,n,2])\n",
    "\n",
    "            V = max(R,G,B)\n",
    "\n",
    "            Vm = V-min(R,G,B)\n",
    "\n",
    "            if(V == 0):\n",
    "                S = 0\n",
    "            elif(V > 0):\n",
    "                S = Vm/V\n",
    "\n",
    "            if(S == 0):\n",
    "                H = 0\n",
    "            elif(V == R):\n",
    "                H = (60/360)*(((G-B)/Vm)%6)\n",
    "            elif(V == G):\n",
    "                H = (60/360)*(2+((B-R)/Vm))\n",
    "            elif(V == B):\n",
    "                H = (60/360)*(4+((R-G)/Vm))\n",
    "\n",
    "          \n",
    "\n",
    "            newImage[m,n,0] = H \n",
    "            newImage[m,n,1] = S\n",
    "            newImage[m,n,2] = V\n",
    "    return newImage\n",
    "\n",
    "def customImg(image):\n",
    "    (M, N, C) = image.shape\n",
    "    for m in range(M):\n",
    "        for n in range(N):        \n",
    "            image[m,n,1] = 0\n",
    "            image[m,n,2] = 0\n",
    "    return image.astype('uint8')\n",
    "\n",
    "\n",
    "def segmentation(img):\n",
    "    (M, N, C) = img.shape\n",
    "    newImage = np.zeros([M,N])\n",
    "    for m in range(M):\n",
    "        for n in range(N):\n",
    "            h = img[m,n,0]\n",
    "            s = img[m,n,1]\n",
    "            if((h <= 109) and(h >= 30)):\n",
    "                newImage[m,n] = 0\n",
    "            else:\n",
    "                newImage[m,n] = 255\n",
    "    return newImage.astype('uint8')"
   ]
  },
  {
   "cell_type": "code",
   "execution_count": 47,
   "metadata": {},
   "outputs": [],
   "source": [
    "imgpath = \"D:/imageproc/lv2.jpg\"\n",
    "img = cv2.imread(imgpath)\n",
    "img = cv2.resize(img,None,fx=0.2,fy=0.2)\n",
    "hsv = rgb_to_hsv(img)\n",
    "h,s,v = cv2.split(hsvimg)\n",
    "showImage([img,hsv,h,s,v])\n"
   ]
  },
  {
   "cell_type": "code",
   "execution_count": 28,
   "metadata": {},
   "outputs": [
    {
     "data": {
      "text/plain": [
       "array([5.45454545e-01, 5.21327014e-02, 2.11000000e+02, ...,\n",
       "       5.25641026e-01, 5.55555556e-02, 2.34000000e+02])"
      ]
     },
     "execution_count": 28,
     "metadata": {},
     "output_type": "execute_result"
    }
   ],
   "source": [
    "imgpath = \"D:/imageproc/lv2.jpg\"\n",
    "img = cv2.imread(imgpath)\n",
    "img = cv2.resize(img,None,fx=0.2,fy=0.2)\n",
    "hsv = rgb_to_hsv(img)\n",
    "hsvimg = cv2.cvtColor(img, cv2.COLOR_BGR2HSV)\n",
    "rgbimg = cv2.cvtColor(hsvimg, cv2.COLOR_HSV2BGR)\n",
    "h,s,v = cv2.split(hsvimg)\n",
    "b,g,r = cv2.split(rgbimg)\n",
    "hr = h.ravel()\n",
    "sr = s.ravel()\n",
    "vr = v.ravel()\n",
    "\n",
    "hsv.ravel()\n",
    "\n"
   ]
  },
  {
   "cell_type": "code",
   "execution_count": 32,
   "metadata": {},
   "outputs": [],
   "source": [
    "showImage(v)"
   ]
  },
  {
   "cell_type": "code",
   "execution_count": 140,
   "metadata": {},
   "outputs": [
    {
     "data": {
      "text/plain": [
       "array([[109, 109, 109, ..., 113, 113, 113],\n",
       "       [109, 109, 109, ..., 113, 113, 113],\n",
       "       [109, 109, 109, ..., 113, 113, 113],\n",
       "       ...,\n",
       "       [ 30,  30,  30, ..., 109, 109, 109],\n",
       "       [ 30,  30,  30, ..., 109, 109, 109],\n",
       "       [ 30,  30,  30, ..., 109, 109, 109]], dtype=uint8)"
      ]
     },
     "execution_count": 140,
     "metadata": {},
     "output_type": "execute_result"
    }
   ],
   "source": [
    "hsvimg[:,:,0]"
   ]
  },
  {
   "cell_type": "code",
   "execution_count": 79,
   "metadata": {},
   "outputs": [
    {
     "data": {
      "text/plain": [
       "array([[[ 40, 221,  98],\n",
       "        [ 40, 221,  98],\n",
       "        [ 40, 221,  97],\n",
       "        ...,\n",
       "        [ 42, 201,  94],\n",
       "        [ 42, 199,  95],\n",
       "        [ 42, 195,  97]],\n",
       "\n",
       "       [[ 40, 231,  94],\n",
       "        [ 40, 226,  96],\n",
       "        [ 40, 221,  97],\n",
       "        ...,\n",
       "        [ 42, 207,  91],\n",
       "        [ 42, 201,  94],\n",
       "        [ 42, 195,  97]],\n",
       "\n",
       "       [[ 40, 231,  94],\n",
       "        [ 40, 226,  96],\n",
       "        [ 40, 221,  97],\n",
       "        ...,\n",
       "        [ 42, 207,  91],\n",
       "        [ 42, 199,  95],\n",
       "        [ 42, 193,  98]],\n",
       "\n",
       "       ...,\n",
       "\n",
       "       [[ 42, 232,  99],\n",
       "        [ 42, 232,  99],\n",
       "        [ 42, 230, 100],\n",
       "        ...,\n",
       "        [ 42, 207, 100],\n",
       "        [ 43, 217,  93],\n",
       "        [ 43, 212,  95]],\n",
       "\n",
       "       [[ 42, 232,  99],\n",
       "        [ 42, 232,  99],\n",
       "        [ 42, 232,  99],\n",
       "        ...,\n",
       "        [ 42, 209,  99],\n",
       "        [ 43, 219,  92],\n",
       "        [ 43, 212,  95]],\n",
       "\n",
       "       [[ 42, 232,  99],\n",
       "        [ 42, 234,  98],\n",
       "        [ 42, 234,  98],\n",
       "        ...,\n",
       "        [ 42, 209,  99],\n",
       "        [ 43, 221,  91],\n",
       "        [ 43, 219,  92]]], dtype=uint8)"
      ]
     },
     "execution_count": 79,
     "metadata": {},
     "output_type": "execute_result"
    }
   ],
   "source": [
    "hsvimg"
   ]
  },
  {
   "cell_type": "code",
   "execution_count": null,
   "metadata": {},
   "outputs": [],
   "source": [
    "cv2.imshow('h',h)\n",
    "cv2.imshow('s',s)\n",
    "cv2.imshow('v',v)\n",
    "cv2.waitKey(0)\n",
    "cv2.destroyAllWindows()"
   ]
  },
  {
   "cell_type": "code",
   "execution_count": 34,
   "metadata": {},
   "outputs": [],
   "source": [
    "bim = bi(img)\n",
    "cv2.imshow('biner',bim)\n",
    "cv2.imshow('rgb',img)\n",
    "cv2.waitKey(0)\n",
    "cv2.destroyAllWindows()\n",
    "showImage(bim)"
   ]
  },
  {
   "cell_type": "code",
   "execution_count": 33,
   "metadata": {},
   "outputs": [
    {
     "data": {
      "text/plain": [
       "array([[255, 255, 255, ..., 255, 255, 255],\n",
       "       [255, 255, 255, ..., 255, 255, 255],\n",
       "       [255, 255, 255, ..., 255, 255, 255],\n",
       "       ...,\n",
       "       [255, 255, 255, ..., 255, 255, 255],\n",
       "       [255, 255, 255, ..., 255, 255, 255],\n",
       "       [255, 255, 255, ..., 255, 255, 255]], dtype=uint8)"
      ]
     },
     "execution_count": 33,
     "metadata": {},
     "output_type": "execute_result"
    }
   ],
   "source": [
    "bim"
   ]
  },
  {
   "cell_type": "code",
   "execution_count": 7,
   "metadata": {},
   "outputs": [],
   "source": [
    "def rgb_to_hsv2(r, g, b):\n",
    "    r, g, b = r/255.0, g/255.0, b/255.0\n",
    "    mx = max(r, g, b)\n",
    "    mn = min(r, g, b)\n",
    "    df = mx-mn\n",
    "    if mx == mn:\n",
    "        h = 0\n",
    "    elif mx == r:\n",
    "        h = (60 * ((g-b)/df) + 360) % 360\n",
    "    elif mx == g:\n",
    "        h = (60 * ((b-r)/df) + 120) % 360\n",
    "    elif mx == b:\n",
    "        h = (60 * ((r-g)/df) + 240) % 360\n",
    "    if mx == 0:\n",
    "        s = 0\n",
    "    else:\n",
    "        s = (df/mx)*100\n",
    "    v = mx*100\n",
    "    return h, s, v"
   ]
  },
  {
   "cell_type": "code",
   "execution_count": 10,
   "metadata": {},
   "outputs": [],
   "source": [
    "edo = np.array([[[0,255,0],[0,243,0],[60,238,61],[72,206,76]],\n",
    "       [[0,255,0],[18,253,0],[117,255,120],[144,250,151]]])"
   ]
  },
  {
   "cell_type": "code",
   "execution_count": 25,
   "metadata": {},
   "outputs": [
    {
     "data": {
      "text/plain": [
       "(0.3284552845528455, 0.8723404255319149, 0.9215686274509803)"
      ]
     },
     "execution_count": 25,
     "metadata": {},
     "output_type": "execute_result"
    }
   ],
   "source": [
    "\n",
    "    \n"
   ]
  },
  {
   "cell_type": "code",
   "execution_count": 9,
   "metadata": {},
   "outputs": [
    {
     "data": {
      "text/plain": [
       "array([[[120.        ,   1.        ,   1.        ],\n",
       "        [120.        ,   1.        ,   1.        ],\n",
       "        [119.66292135,   0.74789916,   0.66295265],\n",
       "        [118.20895522,   0.65048544,   0.5819209 ]],\n",
       "\n",
       "       [[120.        ,   1.        ,   1.        ],\n",
       "        [124.2687747 ,   1.        ,   0.93357934],\n",
       "        [118.69565217,   0.54117647,   0.51829268],\n",
       "        [116.03773585,   0.424     ,   0.4587156 ]]])"
      ]
     },
     "execution_count": 9,
     "metadata": {},
     "output_type": "execute_result"
    }
   ],
   "source": [
    "rgb_to_hsv(edo)"
   ]
  },
  {
   "cell_type": "code",
   "execution_count": 16,
   "metadata": {},
   "outputs": [
    {
     "data": {
      "text/plain": [
       "206"
      ]
     },
     "execution_count": 16,
     "metadata": {},
     "output_type": "execute_result"
    }
   ],
   "source": [
    "max(72,206,76)"
   ]
  },
  {
   "cell_type": "code",
   "execution_count": 74,
   "metadata": {},
   "outputs": [],
   "source": []
  },
  {
   "cell_type": "code",
   "execution_count": 75,
   "metadata": {},
   "outputs": [
    {
     "data": {
      "text/plain": [
       "0"
      ]
     },
     "execution_count": 75,
     "metadata": {},
     "output_type": "execute_result"
    }
   ],
   "source": [
    "= edo[0,0,0]"
   ]
  },
  {
   "cell_type": "code",
   "execution_count": 34,
   "metadata": {},
   "outputs": [
    {
     "name": "stdout",
     "output_type": "stream",
     "text": [
      "Mode is / are: 5\n"
     ]
    }
   ],
   "source": [
    "# Python program to print \n",
    "# mode of elements \n",
    "from collections import Counter \n",
    "  \n",
    "# list of elements to calculate mode \n",
    "n_num = [1, 2, 3, 4, 5, 5] \n",
    "n = len(n_num) \n",
    "  \n",
    "data = Counter(n_num) \n",
    "get_mode = dict(data) \n",
    "mode = [k for k, v in get_mode.items() if v == max(list(data.values()))] \n",
    "  \n",
    "if len(mode) == n: \n",
    "    get_mode = \"No mode found\"\n",
    "else: \n",
    "    get_mode = \"Mode is / are: \" + ', '.join(map(str, mode)) \n",
    "      \n",
    "print(get_mode) "
   ]
  },
  {
   "cell_type": "code",
   "execution_count": 35,
   "metadata": {},
   "outputs": [
    {
     "data": {
      "text/plain": [
       "Counter({1: 1, 2: 1, 3: 1, 4: 1, 5: 2})"
      ]
     },
     "execution_count": 35,
     "metadata": {},
     "output_type": "execute_result"
    }
   ],
   "source": [
    "data"
   ]
  },
  {
   "cell_type": "code",
   "execution_count": 36,
   "metadata": {},
   "outputs": [
    {
     "data": {
      "text/plain": [
       "{1: 1, 2: 1, 3: 1, 4: 1, 5: 2}"
      ]
     },
     "execution_count": 36,
     "metadata": {},
     "output_type": "execute_result"
    }
   ],
   "source": [
    "dict(data)"
   ]
  },
  {
   "cell_type": "code",
   "execution_count": 43,
   "metadata": {},
   "outputs": [
    {
     "ename": "AttributeError",
     "evalue": "'str' object has no attribute 'items'",
     "output_type": "error",
     "traceback": [
      "\u001b[1;31m---------------------------------------------------------------------------\u001b[0m",
      "\u001b[1;31mAttributeError\u001b[0m                            Traceback (most recent call last)",
      "\u001b[1;32m<ipython-input-43-1eacdbdc027a>\u001b[0m in \u001b[0;36m<module>\u001b[1;34m\u001b[0m\n\u001b[1;32m----> 1\u001b[1;33m \u001b[0mget_mode\u001b[0m\u001b[1;33m.\u001b[0m\u001b[0mitems\u001b[0m\u001b[1;33m(\u001b[0m\u001b[1;33m)\u001b[0m\u001b[1;33m\u001b[0m\u001b[1;33m\u001b[0m\u001b[0m\n\u001b[0m",
      "\u001b[1;31mAttributeError\u001b[0m: 'str' object has no attribute 'items'"
     ]
    }
   ],
   "source": [
    "get_mode.items()"
   ]
  },
  {
   "cell_type": "code",
   "execution_count": 19,
   "metadata": {},
   "outputs": [
    {
     "data": {
      "text/plain": [
       "3"
      ]
     },
     "execution_count": 19,
     "metadata": {},
     "output_type": "execute_result"
    }
   ],
   "source": [
    "max(2,3,1)"
   ]
  },
  {
   "cell_type": "code",
   "execution_count": null,
   "metadata": {},
   "outputs": [],
   "source": []
  }
 ],
 "metadata": {
  "kernelspec": {
   "display_name": "Python 3",
   "language": "python",
   "name": "python3"
  },
  "language_info": {
   "codemirror_mode": {
    "name": "ipython",
    "version": 3
   },
   "file_extension": ".py",
   "mimetype": "text/x-python",
   "name": "python",
   "nbconvert_exporter": "python",
   "pygments_lexer": "ipython3",
   "version": "3.7.1"
  }
 },
 "nbformat": 4,
 "nbformat_minor": 2
}
