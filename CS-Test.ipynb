{
 "cells": [
  {
   "cell_type": "code",
   "execution_count": 4,
   "metadata": {},
   "outputs": [],
   "source": [
    "import cv2\n",
    "import numpy as np\n",
    "import matplotlib.pyplot as plt\n",
    "from collections import Counter\n",
    "\n",
    "def showImage(data):\n",
    "    if(type(data) is list):\n",
    "        for i in range(len(data)):\n",
    "            cv2.imshow('Gambar'+str(i+1),data[i])\n",
    "    elif((type(data).__module__) == \"numpy\"):\n",
    "        cv2.imshow('Gambar',data)\n",
    "    else:\n",
    "        print('File Error')\n",
    "    \n",
    "    cv2.waitKey(0)\n",
    "    cv2.destroyAllWindows() \n",
    "    \n",
    "def getfeature(img):\n",
    "    hsv = cv2.cvtColor(img, cv2.COLOR_BGR2HSV)\n",
    "    maxg = (100, 255,   255)\n",
    "    ming = ( 34, 80,  20)\n",
    "    mask = cv2.inRange(hsv,ming,maxg)\n",
    "    kernel = np.ones([5,5])\n",
    "#     mask = cv2.morphologyEx(mask, cv2.MORPH_OPEN, kernel) \n",
    "    mask = cv2.morphologyEx(mask, cv2.MORPH_CLOSE, kernel) \n",
    "    result = cv2.bitwise_and(img, img, mask=mask)\n",
    "    return result"
   ]
  },
  {
   "cell_type": "code",
   "execution_count": 5,
   "metadata": {},
   "outputs": [],
   "source": [
    "path = \"D:\\imageproc\\Level 4\\lv4-2.jpg\"\n",
    "img2 = cv2.imread(path,1)\n",
    "img2 = cv2.resize(img2,None,fx=0.5,fy=0.5)\n",
    "showImage(getfeature(img2))"
   ]
  },
  {
   "cell_type": "code",
   "execution_count": 3,
   "metadata": {},
   "outputs": [],
   "source": [
    "path = \"D:\\imageproc\\Level 4\\lv4-2.jpg\"\n",
    "img3 = cv2.imread(path,1)\n",
    "hsv = cv2.cvtColor(img3, cv2.COLOR_BGR2HSV)\n",
    "h,s,v = cv2.split(hsv)\n",
    "ret1,mask_S = cv2.threshold(s,100,255,cv2.THRESH_BINARY)\n",
    "ret1,mask_H = cv2.threshold(v,100,255,cv2.THRESH_BINARY)\n",
    "# mask = cv2.bitwise_not(mask)\n",
    "rs = cv2.bitwise_and(img3, img3, mask=mask_S)\n",
    "rh = cv2.bitwise_and(img3, img3, mask=cv2.bitwise_not(mask_H))\n",
    "showImage([rs,rh])"
   ]
  },
  {
   "cell_type": "code",
   "execution_count": 291,
   "metadata": {},
   "outputs": [],
   "source": [
    "path = \"D:\\imageproc\\Level 2\\lv2-2.jpg\"\n",
    "img = cv2.imread(path,1)\n",
    "ret1,mask = cv2.threshold(cv2.cvtColor(img, cv2.COLOR_BGR2GRAY),100,255,cv2.THRESH_BINARY)\n",
    "mask = cv2.bitwise_not(mask)\n",
    "result = cv2.bitwise_and(img, img, mask=mask)\n",
    "showImage(result)"
   ]
  },
  {
   "cell_type": "code",
   "execution_count": 354,
   "metadata": {},
   "outputs": [
    {
     "ename": "ValueError",
     "evalue": "The truth value of an array with more than one element is ambiguous. Use a.any() or a.all()",
     "output_type": "error",
     "traceback": [
      "\u001b[1;31m---------------------------------------------------------------------------\u001b[0m",
      "\u001b[1;31mValueError\u001b[0m                                Traceback (most recent call last)",
      "\u001b[1;32m<ipython-input-354-18ecf6caf518>\u001b[0m in \u001b[0;36m<module>\u001b[1;34m\u001b[0m\n\u001b[1;32m----> 1\u001b[1;33m \u001b[0mrs\u001b[0m \u001b[1;32mand\u001b[0m \u001b[0mrh\u001b[0m\u001b[1;33m\u001b[0m\u001b[1;33m\u001b[0m\u001b[0m\n\u001b[0m",
      "\u001b[1;31mValueError\u001b[0m: The truth value of an array with more than one element is ambiguous. Use a.any() or a.all()"
     ]
    }
   ],
   "source": [
    "rs and rh"
   ]
  },
  {
   "cell_type": "code",
   "execution_count": null,
   "metadata": {},
   "outputs": [],
   "source": []
  }
 ],
 "metadata": {
  "kernelspec": {
   "display_name": "Python 3",
   "language": "python",
   "name": "python3"
  },
  "language_info": {
   "codemirror_mode": {
    "name": "ipython",
    "version": 3
   },
   "file_extension": ".py",
   "mimetype": "text/x-python",
   "name": "python",
   "nbconvert_exporter": "python",
   "pygments_lexer": "ipython3",
   "version": "3.7.1"
  }
 },
 "nbformat": 4,
 "nbformat_minor": 2
}
