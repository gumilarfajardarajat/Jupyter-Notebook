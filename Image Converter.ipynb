{
 "cells": [
  {
   "cell_type": "code",
   "execution_count": 1,
   "metadata": {},
   "outputs": [],
   "source": [
    "import numpy as np\n",
    "import cv2\n",
    "import math\n",
    "\n",
    "# rgb = np.uint8([[[0,255,0 ]]])\n",
    "# hsv = cv2.cvtColor(green,cv2.COLOR_BGR2HSV)\n",
    "\n",
    "def showImage(data):\n",
    "    if(type(data) is list):\n",
    "        for i in range(len(data)):\n",
    "            cv2.imshow('Gambar'+str(i+1),data[i])\n",
    "    elif((type(data).__module__) == \"numpy\"):\n",
    "        cv2.imshow('Gambar',data)\n",
    "    else:\n",
    "        print('File Error')\n",
    "    \n",
    "    cv2.waitKey(0)\n",
    "    cv2.destroyAllWindows() \n",
    "\n",
    "def draw(b,g,r):\n",
    "    draw = np.zeros([500,500,3])\n",
    "    draw[:,:,:1].fill(b)\n",
    "    draw[:,:,1:2].fill(g)\n",
    "    draw[:,:,2:3].fill(r)\n",
    "    return draw\n",
    "\n",
    "def truncate(f, n):\n",
    "    return math.floor(f * 10 ** n) / 10 ** n\n",
    "\n",
    "def bgr2hsv(img):\n",
    "    (M, N, C) = img.shape\n",
    "    newImage = np.zeros([M,N,C])\n",
    "    for m in range(M):\n",
    "        for n in range(N):\n",
    "\n",
    "            Ba = img[m,n,0]/255\n",
    "            Ga = img[m,n,1]/255\n",
    "            Ra = img[m,n,2]/255\n",
    "            \n",
    "            cmax = max(Ra,Ga,Ba)\n",
    "            cmin = min(Ra,Ga,Ba)\n",
    "            delta = cmax-cmin\n",
    "\n",
    "            if(delta==0):\n",
    "                H = 0\n",
    "            elif(cmax == Ra):\n",
    "                H = 60*(((Ga-Ba)/delta) % 6)\n",
    "            elif(cmax == Ga):\n",
    "                H = 60*(((Ba-Ra)/delta)+ 2)\n",
    "            elif(cmax == Ba):\n",
    "                H = 60*(((Ra-Ga)/delta)+ 4)           \n",
    "            \n",
    "            if(cmax == 0):\n",
    "                S = 0\n",
    "            else:\n",
    "                S = delta/cmax\n",
    "                \n",
    "\n",
    "            \n",
    "            V = cmax\n",
    "            \n",
    "            newImage[m,n,0] = round(H) \n",
    "            newImage[m,n,1] = truncate(S,3)*100\n",
    "            newImage[m,n,2] = truncate(V,3)*100\n",
    "    return newImage\n",
    "\n",
    "def bgr2hsv2(img):  \n",
    "    (M, N, C) = img.shape\n",
    "    newImage = np.zeros([M,N,C])\n",
    "    for m in range(M):\n",
    "        for n in range(N):\n",
    "            B = float(img[m,n,0]) \n",
    "            G = float(img[m,n,1])\n",
    "            R = float(img[m,n,2])\n",
    "\n",
    "            V = max(R,G,B)\n",
    "\n",
    "            Vm = V-min(R,G,B)\n",
    "\n",
    "            if(V == 0):\n",
    "                S = 0\n",
    "            elif(V > 0):\n",
    "                S = Vm/V\n",
    "\n",
    "            if(S == 0):\n",
    "                H = 0\n",
    "            elif(V == R):\n",
    "                H = (60/360)*(((G-B)/Vm)%6)\n",
    "            elif(V == G):\n",
    "                H = (60/360)*(2+((B-R)/Vm))\n",
    "            elif(V == B):\n",
    "                H = (60/360)*(4+((R-G)/Vm))\n",
    "\n",
    "            if(H < 0):\n",
    "                H = H(m,n)+360          \n",
    "\n",
    "            newImage[m,n,0] = H \n",
    "            newImage[m,n,1] = S\n",
    "            newImage[m,n,2] = V\n",
    "    return newImage\n",
    "# def hsv2bgr(img):\n",
    "#     (M, N, C) = img.shape\n",
    "#     newImage = np.zeros([M,N,C])\n",
    "#     for m in range(M):\n",
    "#         for n in range(N):\n",
    "            \n",
    "#             H = img[m,n,0] \n",
    "#             S = (img[m,n,1])\n",
    "#             V = (img[m,n,2])\n",
    "            \n",
    "#             C = V * S\n",
    "\n",
    "#             X = C * (1 - abs((H / 60) % 2 - 1))\n",
    "\n",
    "#             m = V - C\n",
    "            \n",
    "#             if(H>=0 and H<60):\n",
    "#                 (Ra,Ga,Ba) = (C,X,0)\n",
    "#             elif(H>=60 and H<120):\n",
    "#                 (Ra,Ga,Ba) = (X,C,0)\n",
    "#             elif(H>=120 and H<180):\n",
    "#                 (Ra,Ga,Ba) = (0,C,X)\n",
    "#             elif(H>=180 and H<240):\n",
    "#                 (Ra,Ga,Ba) = (0,X,C)\n",
    "#             elif(H>=240 and H<300):\n",
    "#                 (Ra,Ga,Ba) = (X,0,C)\n",
    "#             elif(H>=300 and H<360):\n",
    "#                 (Ra,Ga,Ba) = (C,0,X)\n",
    "            \n",
    "#             (R,G,B) = (((Ra+m)*255),((Ga+m)*255),((Ba+m)*255))\n",
    "            \n",
    "#             newImage[m,n,0] = B\n",
    "#             newImage[m,n,1] = G\n",
    "#             newImage[m,n,2] = R\n",
    "            \n",
    "#     return V"
   ]
  },
  {
   "cell_type": "code",
   "execution_count": 424,
   "metadata": {},
   "outputs": [],
   "source": [
    "color = np.uint8([[[0,255,0 ]]])\n",
    "hsv = cv2.cvtColor(color,cv2.COLOR_BGR2HSV)\n",
    "rgb = cv2.cvtColor(hsv,cv2.COLOR_HSV2BGR)"
   ]
  },
  {
   "cell_type": "code",
   "execution_count": 2,
   "metadata": {},
   "outputs": [],
   "source": [
    "showImage(draw(1,90,200))"
   ]
  },
  {
   "cell_type": "code",
   "execution_count": 439,
   "metadata": {},
   "outputs": [
    {
     "data": {
      "text/plain": [
       "array([[[147, 255, 255]]], dtype=uint8)"
      ]
     },
     "execution_count": 439,
     "metadata": {},
     "output_type": "execute_result"
    }
   ],
   "source": [
    "cv2.cvtColor(np.uint8([[[255,0,225 ]]]),cv2.COLOR_BGR2HSV)"
   ]
  },
  {
   "cell_type": "code",
   "execution_count": 417,
   "metadata": {},
   "outputs": [
    {
     "data": {
      "text/plain": [
       "array([[[120., 100., 100.]]])"
      ]
     },
     "execution_count": 417,
     "metadata": {},
     "output_type": "execute_result"
    }
   ],
   "source": [
    "csgreen"
   ]
  },
  {
   "cell_type": "code",
   "execution_count": 418,
   "metadata": {},
   "outputs": [
    {
     "data": {
      "text/plain": [
       "array([[[  0.33333333,   1.        , 255.        ]]])"
      ]
     },
     "execution_count": 418,
     "metadata": {},
     "output_type": "execute_result"
    }
   ],
   "source": [
    "show"
   ]
  },
  {
   "cell_type": "code",
   "execution_count": null,
   "metadata": {},
   "outputs": [],
   "source": []
  }
 ],
 "metadata": {
  "kernelspec": {
   "display_name": "Python 3",
   "language": "python",
   "name": "python3"
  },
  "language_info": {
   "codemirror_mode": {
    "name": "ipython",
    "version": 3
   },
   "file_extension": ".py",
   "mimetype": "text/x-python",
   "name": "python",
   "nbconvert_exporter": "python",
   "pygments_lexer": "ipython3",
   "version": "3.7.1"
  }
 },
 "nbformat": 4,
 "nbformat_minor": 2
}
