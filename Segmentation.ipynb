{
 "cells": [
  {
   "cell_type": "code",
   "execution_count": 1,
   "metadata": {},
   "outputs": [],
   "source": [
    "import numpy as np\n",
    "import cv2\n",
    "from matplotlib import pyplot as plt\n",
    "from collections import Counter "
   ]
  },
  {
   "cell_type": "code",
   "execution_count": 1,
   "metadata": {},
   "outputs": [],
   "source": [
    "def showImage(data):\n",
    "    if(type(data) is list):\n",
    "        for i in range(len(data)):\n",
    "            if(type(img).__module__ == \"numpy\"):\n",
    "                cv2.imshow('Gambar'+str(i),data[i])\n",
    "            else:\n",
    "                print(\"data ke\",i,\"bukan gambar\")\n",
    "    elif((type(data).__module__) == \"numpy\"):\n",
    "        cv2.imshow('Gambar',data)\n",
    "    else:\n",
    "        print('File Error')\n",
    "    \n",
    "    cv2.waitKey(0)\n",
    "    cv2.destroyAllWindows() \n",
    "\n",
    "def gsAverage(image):\n",
    "    (M, N, C) = image.shape\n",
    "    grayImage = np.zeros([M,N])\n",
    "    for m in range(M):\n",
    "        for n in range(N):\n",
    "            B = int(image[m,n,0]) \n",
    "            G = int(image[m,n,1])\n",
    "            R = int(image[m,n,2])           \n",
    "            grayImage[m,n] = round((R+G+B)/3,0)\n",
    "    return grayImage.astype('uint8')\n",
    "    \n",
    "def satSeg(image):\n",
    "    image = cv2.cvtColor(image, cv2.COLOR_BGR2HSV)\n",
    "    (M, N, C) = image.shape\n",
    "    newImage = np.zeros([M,N])\n",
    "    maxs =  255\n",
    "    mins =  43   \n",
    "    for m in range(M):\n",
    "        for n in range(N):\n",
    "            s = image[m,n,1]\n",
    "            if(s<=maxs and s>=mins ):\n",
    "                newImage[m,n] = 255\n",
    "            else:\n",
    "                newImage[m,n] = 0\n",
    "                    \n",
    "    return newImage.astype('uint8')\n",
    "\n",
    "\n",
    "def segmentation(image):\n",
    "    image = cv2.cvtColor(image, cv2.COLOR_BGR2HSV)\n",
    "    (M, N, C) = image.shape\n",
    "    newImage = np.zeros([M,N,C])\n",
    "    maxh =  77\n",
    "    minh =  39\n",
    "    maxs =  255\n",
    "    mins =  43\n",
    "    maxv =  244\n",
    "    minv =  25    \n",
    "    for m in range(M):\n",
    "        for n in range(N):\n",
    "            h = image[m,n,0]\n",
    "            s = image[m,n,1]\n",
    "            v = image[m,n,2]\n",
    "            if(h<=maxh and h>=minh ):\n",
    "                hb = True\n",
    "            else:\n",
    "                hb = False\n",
    "                \n",
    "            if(s<=maxs and s>=mins ):\n",
    "                sb = True\n",
    "            else:\n",
    "                sb = False\n",
    "                \n",
    "            if(v<=maxv and v>=minv ):\n",
    "                vb = True\n",
    "            else:\n",
    "                vb = False \n",
    "            if(hb and sb and vb):\n",
    "                newImage[m,n,0] = 255\n",
    "                newImage[m,n,1] = 255\n",
    "                newImage[m,n,2] = 255\n",
    "            else:\n",
    "                newImage[m,n,0] = 0\n",
    "                newImage[m,n,1] = 0\n",
    "                newImage[m,n,2] = 0          \n",
    "    return newImage.astype('uint8')\n",
    "\n",
    "\n",
    "def slashImg(image,pattern):\n",
    "    (M, N, C) = img.shape\n",
    "    newImage = np.zeros([M,N,C])\n",
    "    for m in range(M):\n",
    "        for n in range(N):\n",
    "            target = pattern[m,n]\n",
    "            if(target == 255):\n",
    "                newImage[m,n,0] = img[m,n,0]\n",
    "                newImage[m,n,1] = img[m,n,1]\n",
    "                newImage[m,n,2] = img[m,n,2]\n",
    "            else:\n",
    "                newImage[m,n,0] = 0\n",
    "                newImage[m,n,1] = 0\n",
    "                newImage[m,n,2] = 0\n",
    "    return newImage.astype('uint8')"
   ]
  },
  {
   "cell_type": "code",
   "execution_count": 4,
   "metadata": {},
   "outputs": [],
   "source": [
    "imgpath = \"D:\\imageproc\\Level 4\\lv4-6.jpg\"\n",
    "img = cv2.imread(imgpath,1)\n",
    "img = cv2.resize(img,None,fx=0.3,fy=0.3)\n",
    "\n",
    "\n",
    "\n",
    "sg = satSeg(img)\n",
    "newimg = slashImg(img,sg)\n",
    "showImage(newimg)\n",
    "# pathsave = imgpath[:len(imgpath)-4]+'segS.jpg'\n",
    "# cv2.imwrite(pathsave, newimg)"
   ]
  },
  {
   "cell_type": "code",
   "execution_count": 59,
   "metadata": {},
   "outputs": [
    {
     "name": "stdout",
     "output_type": "stream",
     "text": [
      "D:\\imageproc\\Level 2\\lv2-1segS.jpg\n"
     ]
    }
   ],
   "source": [
    "print()"
   ]
  },
  {
   "cell_type": "code",
   "execution_count": 32,
   "metadata": {},
   "outputs": [
    {
     "data": {
      "text/plain": [
       "(738, 554, 3)"
      ]
     },
     "execution_count": 32,
     "metadata": {},
     "output_type": "execute_result"
    }
   ],
   "source": [
    "imgpath = \"D:\\imageproc\\Level 2\\lv2-1.jpg\"\n",
    "img = cv2.imread(imgpath,1)\n",
    "img = cv2.resize(img,None,fx=0.3,fy=0.3)\n",
    "img.shape"
   ]
  },
  {
   "cell_type": "code",
   "execution_count": 8,
   "metadata": {},
   "outputs": [],
   "source": [
    "imgpath = \"D:\\imageproc\\Level 2\\lv2-1.jpg\"\n",
    "# imgpath = \"D:\\imageproc\\out2.jpg\"\n",
    "imggray = cv2.imread(imgpath,0)\n",
    "img = cv2.imread(imgpath,1)\n",
    "img = cv2.resize(img,None,fx=0.3,fy=0.3)\n",
    "\n",
    "sg = segmentation(img)\n",
    "sg = cv2.cvtColor(sg,cv2.COLOR_RGB2GRAY)\n",
    "kernel = np.zeros([5,5])\n",
    "kernel.fill(255)\n",
    "\n",
    "\n",
    "# closing = cv2.morphologyEx(sg, cv2.MORPH_CLOSE, kernel)\n",
    "# opening = cv2.morphologyEx(opening, cv2.MORPH_OPEN, kernel)\n",
    "\n",
    "closing = cv2.morphologyEx(sg, cv2.MORPH_CLOSE, kernel)\n",
    "slashimg = slashImg(img,sg)\n",
    "gambar =  [img,sg,closing,slashimg]\n",
    "showImage(gambar)\n",
    "\n"
   ]
  },
  {
   "cell_type": "code",
   "execution_count": 188,
   "metadata": {},
   "outputs": [],
   "source": [
    "h,w,d = img.shape\n",
    "img[0:wedge,0:hedge]\n",
    "crop = img[400:600,530:620]\n",
    "hsvimg = cv2.cvtColor(crop, cv2.COLOR_BGR2HSV)\n",
    "showImage(crop)"
   ]
  },
  {
   "cell_type": "code",
   "execution_count": 180,
   "metadata": {},
   "outputs": [],
   "source": [
    "h,s,v = cv2.split(hsvimg)"
   ]
  },
  {
   "cell_type": "code",
   "execution_count": 187,
   "metadata": {},
   "outputs": [
    {
     "name": "stdout",
     "output_type": "stream",
     "text": [
      "Max H =  59\n",
      "Min H =  50\n",
      "Max S =  178\n",
      "Min S =  74\n",
      "Max V =  110\n",
      "Min V =  42\n"
     ]
    }
   ],
   "source": [
    "maxh = max(h.ravel())\n",
    "minh = min(h.ravel())\n",
    "maxs = max(s.ravel())\n",
    "mins = min(s.ravel())\n",
    "maxv = max(v.ravel())\n",
    "minv = min(v.ravel())\n",
    "\n",
    "print(\"Max H = \",maxh)\n",
    "print(\"Min H = \",minh)\n",
    "print(\"Max S = \",maxs)\n",
    "print(\"Min S = \",mins)\n",
    "print(\"Max V = \",maxv)\n",
    "print(\"Min V = \",minv)"
   ]
  }
 ],
 "metadata": {
  "kernelspec": {
   "display_name": "Python 3",
   "language": "python",
   "name": "python3"
  },
  "language_info": {
   "codemirror_mode": {
    "name": "ipython",
    "version": 3
   },
   "file_extension": ".py",
   "mimetype": "text/x-python",
   "name": "python",
   "nbconvert_exporter": "python",
   "pygments_lexer": "ipython3",
   "version": "3.7.1"
  }
 },
 "nbformat": 4,
 "nbformat_minor": 2
}
