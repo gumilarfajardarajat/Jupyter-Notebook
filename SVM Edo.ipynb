{
 "cells": [
  {
   "cell_type": "code",
   "execution_count": 206,
   "metadata": {},
   "outputs": [],
   "source": [
    "import numpy as np\n",
    "import math"
   ]
  },
  {
   "cell_type": "code",
   "execution_count": 207,
   "metadata": {},
   "outputs": [],
   "source": [
    "#inisialisasi Array\n",
    "x = np.array([[]])\n",
    "y = np.array([[]])"
   ]
  },
  {
   "cell_type": "code",
   "execution_count": 213,
   "metadata": {},
   "outputs": [],
   "source": [
    "#Insert Data\n",
    "x = np.array([[]])\n",
    "x = np.append(x,[[0.12754495, 0.27328262, 0.12516046, 0.09987776, 0.035886575, 0.032590449, 0.07260479, 0.11954675, 0.27328262]],axis = 1)\n",
    "x = np.append(x,[[0.15088975, 0.026249984, 0.022723604, 0.014922906, 0.012968333, 0.044205263, 0.029304616, 0.032117538, 0.049614504]],axis = 0)\n",
    "x = np.append(x,[[0.013878325, 0.019257149, 0.069052674, 0.044492051, 0.03945737, 0.031512253, 0.017326111, 0.004935669, 0.008482872]],axis = 0)\n",
    "x = np.append(x,[[0.040298317, 0.030995749, 0.024047103, 0.018927943, 0.017341301, 0.025317641, 0.011101517, 0.028269431, 0.010242061]],axis = 0)\n",
    "x = np.append(x,[[0.0971625, 0.26421747, 0.26515943, 0.18636486, 0.019709533, 0.007429486, 0.011253806, 0.013172934, 0.017112879]],axis = 0)\n",
    "\n",
    "\n",
    "y = np.array([[]])\n",
    "y = np.append(y,[[1]],axis = 1)\n",
    "y = np.append(y,[[-1]],axis = 0)\n",
    "y = np.append(y,[[-1]],axis = 0)\n",
    "y = np.append(y,[[-1]],axis = 0)\n",
    "y = np.append(y,[[-1]],axis = 0)"
   ]
  },
  {
   "cell_type": "code",
   "execution_count": 214,
   "metadata": {},
   "outputs": [
    {
     "data": {
      "text/plain": [
       "0.05218549601910416"
      ]
     },
     "execution_count": 214,
     "metadata": {},
     "output_type": "execute_result"
    }
   ],
   "source": [
    "np.dot(x[0],x[1])"
   ]
  },
  {
   "cell_type": "code",
   "execution_count": 215,
   "metadata": {},
   "outputs": [],
   "source": [
    "# Perhitungan 𝐾(𝑥𝑖,𝑥)= 𝑥𝑖𝑇𝑥 \n",
    "n = len(x)\n",
    "xtx = np.zeros([n,n])\n",
    "yty = np.zeros([n,n])\n",
    "for i in range(n):\n",
    "    for j in range(n):\n",
    "        valx = np.dot(x[j],np.transpose(x[i]))\n",
    "        valy = np.dot(y[j],np.transpose(y[i]))\n",
    "        xtx[i][j] = valx\n",
    "        yty[i][j] = valy"
   ]
  },
  {
   "cell_type": "code",
   "execution_count": 216,
   "metadata": {},
   "outputs": [],
   "source": [
    "# Proses mendapatkan nilai ai diawali dengan mengubah setiap data training menjadi nilai vektor (support vector) = 𝑥𝑦\n",
    "svx = []\n",
    "svy = []\n",
    "for i in range(n):\n",
    "    valx = 0\n",
    "    valy = 0\n",
    "    for j in range(n):\n",
    "        valx = valx + np.dot(x[j],np.transpose(x[i]))\n",
    "        valy = valy + np.dot(y[j],np.transpose(y[i]))\n",
    "    svx.append(valx) \n",
    "    svy.append(valy)\n",
    "    \n",
    "svx = np.array(svx)\n",
    "svy = np.array(svy)"
   ]
  },
  {
   "cell_type": "code",
   "execution_count": 217,
   "metadata": {},
   "outputs": [],
   "source": [
    "# Perhitungan Bias\n",
    "bix = []\n",
    "biy = []\n",
    "for i in range(n):\n",
    "    valx = 0\n",
    "    valy = 0\n",
    "    \n",
    "    valx = 4 - svy[i] + abs(svx[i] - svy[i])\n",
    "    valy = 4 - svx[i] + abs(svy[i] - svx[i])\n",
    "    \n",
    "    bix.append(valx) \n",
    "    biy.append(valy)"
   ]
  },
  {
   "cell_type": "code",
   "execution_count": 218,
   "metadata": {},
   "outputs": [],
   "source": [
    "#Proses selanjutnya adalah mencari nilai ai, sebelum itu masing – masing \n",
    "#support vector akan diberi bias 1 untuk mendapatkan jarak tegak lurus optimal juga berguna untuk mendapatkan hyperplane.\n",
    "b = np.zeros([len(bix),3])\n",
    "for i in range(n):\n",
    "    b[i][0] = bix[i]\n",
    "    b[i][1] = biy[i]\n",
    "    b[i][2] = 1"
   ]
  },
  {
   "cell_type": "code",
   "execution_count": 219,
   "metadata": {},
   "outputs": [],
   "source": [
    "# mencari nilai ai seperti persamaan\n",
    "ait = np.zeros([len(b),len(b)])\n",
    "for i in range(len(b)):\n",
    "    val = 0\n",
    "    for j in range(len(b)):\n",
    "        val = np.dot(np.array([b[j]]),np.array([b[i]]).transpose())\n",
    "        ait[i][j] = val"
   ]
  },
  {
   "cell_type": "code",
   "execution_count": 220,
   "metadata": {},
   "outputs": [],
   "source": [
    "# Perhitungan persamaan dengan Gauss Jordan\n",
    "# a = np.linalg.solve(ait, biy)\n",
    "a = [0,0,0,0,0]\n",
    "a[0] = -1.318731449\n",
    "a[1] = 13.375\n",
    "a[2] = -38.1875\n",
    "a[3] = 29.03125\n",
    "a[4] = -2.0546875"
   ]
  },
  {
   "cell_type": "code",
   "execution_count": 221,
   "metadata": {},
   "outputs": [],
   "source": [
    "test = []\n",
    "for i in range(n):\n",
    "    val = 0\n",
    "    for j in range(n):\n",
    "        val += (ait[i,j]*a[j])    \n",
    "    test.append(val)"
   ]
  },
  {
   "cell_type": "code",
   "execution_count": 222,
   "metadata": {},
   "outputs": [],
   "source": [
    "val = np.zeros([5,3])\n",
    "result = np.zeros([3])\n",
    "for i in range(n):\n",
    "    val[i] = np.dot(a[i],b[i])\n",
    "    "
   ]
  },
  {
   "cell_type": "code",
   "execution_count": 223,
   "metadata": {},
   "outputs": [
    {
     "data": {
      "text/plain": [
       "array([[ -13.79849686,   -9.23112014,   -1.31873145],\n",
       "       [  51.70671221,   90.03842443,   13.375     ],\n",
       "       [-149.51072826, -260.83395652,  -38.1875    ],\n",
       "       [ 114.03438649,  199.03752297,   29.03125   ],\n",
       "       [  -7.35577541,  -12.65686333,   -2.0546875 ]])"
      ]
     },
     "execution_count": 223,
     "metadata": {},
     "output_type": "execute_result"
    }
   ],
   "source": [
    "val"
   ]
  },
  {
   "cell_type": "code",
   "execution_count": 193,
   "metadata": {},
   "outputs": [
    {
     "data": {
      "text/plain": [
       "array([-4.92390184,  6.35400741,  0.84533105])"
      ]
     },
     "execution_count": 193,
     "metadata": {},
     "output_type": "execute_result"
    }
   ],
   "source": []
  },
  {
   "cell_type": "code",
   "execution_count": 224,
   "metadata": {},
   "outputs": [
    {
     "data": {
      "text/plain": [
       "array([-4.92390184,  6.35400741,  0.84533105])"
      ]
     },
     "execution_count": 224,
     "metadata": {},
     "output_type": "execute_result"
    }
   ],
   "source": [
    "np.dot(a[0],b[0]) + np.dot(a[1],b[1]) + np.dot(a[2],b[2]) + np.dot(a[3],b[3]) + np.dot(a[4],b[4])"
   ]
  },
  {
   "cell_type": "code",
   "execution_count": 155,
   "metadata": {},
   "outputs": [
    {
     "ename": "AxisError",
     "evalue": "axis 1 is out of bounds for array of dimension 1",
     "output_type": "error",
     "traceback": [
      "\u001b[1;31m---------------------------------------------------------------------------\u001b[0m",
      "\u001b[1;31mAxisError\u001b[0m                                 Traceback (most recent call last)",
      "\u001b[1;32m<ipython-input-155-bc6dcb999e41>\u001b[0m in \u001b[0;36m<module>\u001b[1;34m\u001b[0m\n\u001b[0;32m      1\u001b[0m \u001b[0mval\u001b[0m \u001b[1;33m=\u001b[0m \u001b[0mnp\u001b[0m\u001b[1;33m.\u001b[0m\u001b[0marray\u001b[0m\u001b[1;33m(\u001b[0m\u001b[1;33m[\u001b[0m\u001b[1;33m[\u001b[0m\u001b[1;33m]\u001b[0m\u001b[1;33m]\u001b[0m\u001b[1;33m)\u001b[0m\u001b[1;33m\u001b[0m\u001b[1;33m\u001b[0m\u001b[0m\n\u001b[0;32m      2\u001b[0m \u001b[0mval\u001b[0m \u001b[1;33m=\u001b[0m \u001b[0mnp\u001b[0m\u001b[1;33m.\u001b[0m\u001b[0mappend\u001b[0m\u001b[1;33m(\u001b[0m\u001b[0mval\u001b[0m\u001b[1;33m,\u001b[0m\u001b[0mnp\u001b[0m\u001b[1;33m.\u001b[0m\u001b[0mdot\u001b[0m\u001b[1;33m(\u001b[0m\u001b[0ma\u001b[0m\u001b[1;33m[\u001b[0m\u001b[1;36m0\u001b[0m\u001b[1;33m]\u001b[0m\u001b[1;33m,\u001b[0m\u001b[0mb\u001b[0m\u001b[1;33m[\u001b[0m\u001b[1;36m0\u001b[0m\u001b[1;33m]\u001b[0m\u001b[1;33m)\u001b[0m\u001b[1;33m)\u001b[0m\u001b[1;33m\u001b[0m\u001b[1;33m\u001b[0m\u001b[0m\n\u001b[1;32m----> 3\u001b[1;33m \u001b[0mnp\u001b[0m\u001b[1;33m.\u001b[0m\u001b[0mappend\u001b[0m\u001b[1;33m(\u001b[0m\u001b[0mval\u001b[0m\u001b[1;33m,\u001b[0m\u001b[0mnp\u001b[0m\u001b[1;33m.\u001b[0m\u001b[0mdot\u001b[0m\u001b[1;33m(\u001b[0m\u001b[0ma\u001b[0m\u001b[1;33m[\u001b[0m\u001b[1;36m1\u001b[0m\u001b[1;33m]\u001b[0m\u001b[1;33m,\u001b[0m\u001b[0mb\u001b[0m\u001b[1;33m[\u001b[0m\u001b[1;36m1\u001b[0m\u001b[1;33m]\u001b[0m\u001b[1;33m)\u001b[0m\u001b[1;33m,\u001b[0m\u001b[0maxis\u001b[0m\u001b[1;33m=\u001b[0m\u001b[1;36m1\u001b[0m\u001b[1;33m)\u001b[0m\u001b[1;33m\u001b[0m\u001b[1;33m\u001b[0m\u001b[0m\n\u001b[0m",
      "\u001b[1;32m~\\Anaconda3\\lib\\site-packages\\numpy\\lib\\function_base.py\u001b[0m in \u001b[0;36mappend\u001b[1;34m(arr, values, axis)\u001b[0m\n\u001b[0;32m   4526\u001b[0m         \u001b[0mvalues\u001b[0m \u001b[1;33m=\u001b[0m \u001b[0mravel\u001b[0m\u001b[1;33m(\u001b[0m\u001b[0mvalues\u001b[0m\u001b[1;33m)\u001b[0m\u001b[1;33m\u001b[0m\u001b[1;33m\u001b[0m\u001b[0m\n\u001b[0;32m   4527\u001b[0m         \u001b[0maxis\u001b[0m \u001b[1;33m=\u001b[0m \u001b[0marr\u001b[0m\u001b[1;33m.\u001b[0m\u001b[0mndim\u001b[0m\u001b[1;33m-\u001b[0m\u001b[1;36m1\u001b[0m\u001b[1;33m\u001b[0m\u001b[1;33m\u001b[0m\u001b[0m\n\u001b[1;32m-> 4528\u001b[1;33m     \u001b[1;32mreturn\u001b[0m \u001b[0mconcatenate\u001b[0m\u001b[1;33m(\u001b[0m\u001b[1;33m(\u001b[0m\u001b[0marr\u001b[0m\u001b[1;33m,\u001b[0m \u001b[0mvalues\u001b[0m\u001b[1;33m)\u001b[0m\u001b[1;33m,\u001b[0m \u001b[0maxis\u001b[0m\u001b[1;33m=\u001b[0m\u001b[0maxis\u001b[0m\u001b[1;33m)\u001b[0m\u001b[1;33m\u001b[0m\u001b[1;33m\u001b[0m\u001b[0m\n\u001b[0m",
      "\u001b[1;31mAxisError\u001b[0m: axis 1 is out of bounds for array of dimension 1"
     ]
    }
   ],
   "source": [
    "val = np.array([[]])\n",
    "val = np.append(val,np.dot(a[0],b[0]))\n",
    "np.append(val,np.dot(a[1],b[1]),axis=1)"
   ]
  },
  {
   "cell_type": "code",
   "execution_count": 152,
   "metadata": {},
   "outputs": [
    {
     "data": {
      "text/plain": [
       "array([-13.79849686,  -9.23112014,  -1.31873145])"
      ]
     },
     "execution_count": 152,
     "metadata": {},
     "output_type": "execute_result"
    }
   ],
   "source": [
    "val"
   ]
  },
  {
   "cell_type": "code",
   "execution_count": 78,
   "metadata": {},
   "outputs": [
    {
     "data": {
      "text/plain": [
       "array([3.91517455, 6.83034911, 1.        ])"
      ]
     },
     "execution_count": 78,
     "metadata": {},
     "output_type": "execute_result"
    }
   ],
   "source": [
    "b[2]"
   ]
  },
  {
   "cell_type": "code",
   "execution_count": 114,
   "metadata": {},
   "outputs": [
    {
     "data": {
      "text/plain": [
       "3.0262827614629133"
      ]
     },
     "execution_count": 114,
     "metadata": {},
     "output_type": "execute_result"
    }
   ],
   "source": [
    "val[0][0] + val[1][0] + val[2][0] + val[3][0] + val[4][0]"
   ]
  },
  {
   "cell_type": "code",
   "execution_count": 112,
   "metadata": {},
   "outputs": [
    {
     "data": {
      "text/plain": [
       "0.8453310510000023"
      ]
     },
     "execution_count": 112,
     "metadata": {},
     "output_type": "execute_result"
    }
   ],
   "source": [
    "-1.318731449 + 13.375 -38.1875 +29.03125 -2.0546875"
   ]
  },
  {
   "cell_type": "code",
   "execution_count": 116,
   "metadata": {},
   "outputs": [
    {
     "data": {
      "text/plain": [
       "-5.984561872481841"
      ]
     },
     "execution_count": 116,
     "metadata": {},
     "output_type": "execute_result"
    }
   ],
   "source": [
    "(-1.318731449*10.46346235) + (13.375*3.865922409) + (-38.1875*3.915174554) +(29.03125*3.915174554) + (-2.0546875*3.915174554)"
   ]
  },
  {
   "cell_type": "code",
   "execution_count": 110,
   "metadata": {},
   "outputs": [
    {
     "data": {
      "text/plain": [
       "[-1.318731449, 13.375, -38.1875, 29.03125, -2.0546875]"
      ]
     },
     "execution_count": 110,
     "metadata": {},
     "output_type": "execute_result"
    }
   ],
   "source": [
    "a"
   ]
  },
  {
   "cell_type": "code",
   "execution_count": 111,
   "metadata": {},
   "outputs": [
    {
     "data": {
      "text/plain": [
       "0.8453310510000023"
      ]
     },
     "execution_count": 111,
     "metadata": {},
     "output_type": "execute_result"
    }
   ],
   "source": [
    "sum(a)"
   ]
  }
 ],
 "metadata": {
  "kernelspec": {
   "display_name": "Python 3",
   "language": "python",
   "name": "python3"
  },
  "language_info": {
   "codemirror_mode": {
    "name": "ipython",
    "version": 3
   },
   "file_extension": ".py",
   "mimetype": "text/x-python",
   "name": "python",
   "nbconvert_exporter": "python",
   "pygments_lexer": "ipython3",
   "version": "3.7.1"
  }
 },
 "nbformat": 4,
 "nbformat_minor": 2
}
